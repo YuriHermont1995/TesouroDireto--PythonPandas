{
  "nbformat": 4,
  "nbformat_minor": 0,
  "metadata": {
    "colab": {
      "name": "API.TD.HML.ipynb",
      "provenance": [],
      "authorship_tag": "ABX9TyNYuP7Hq0oQKjzB9VOGYlQb",
      "include_colab_link": true
    },
    "kernelspec": {
      "name": "python3",
      "display_name": "Python 3"
    },
    "language_info": {
      "name": "python"
    }
  },
  "cells": [
    {
      "cell_type": "markdown",
      "metadata": {
        "id": "view-in-github",
        "colab_type": "text"
      },
      "source": [
        "<a href=\"https://colab.research.google.com/github/YuriHermont1995/TesouroDireto-PythonPandas/blob/main/API_TD_HML.ipynb\" target=\"_parent\"><img src=\"https://colab.research.google.com/assets/colab-badge.svg\" alt=\"Open In Colab\"/></a>"
      ]
    },
    {
      "cell_type": "markdown",
      "metadata": {
        "id": "M1nzJK09x5HR"
      },
      "source": [
        "# **API Tesouro Direto**\n",
        "## **Notebook para Homologação de funcionalidades sobre os dados coletados no TD** "
      ]
    },
    {
      "cell_type": "markdown",
      "metadata": {
        "id": "62JHNfvfyiEV"
      },
      "source": [
        "## **Consulta TD Historico de taxas dos titulos**"
      ]
    },
    {
      "cell_type": "markdown",
      "metadata": {
        "id": "hSn11g2fVjig"
      },
      "source": [
        "### **Buscando Dados**\n"
      ]
    },
    {
      "cell_type": "code",
      "metadata": {
        "id": "hHCgHAlTxyL3"
      },
      "source": [
        "import pandas as pd\n",
        "aux = pd.read_csv('https://www.tesourotransparente.gov.br/ckan/dataset/df56aa42-484a-4a59-8184-7676580c81e3/resource/796d2059-14e9-44e3-80c9-2d9e30b405c1/download/PrecoTaxaTesouroDireto.csv', sep=';')"
      ],
      "execution_count": 2,
      "outputs": []
    },
    {
      "cell_type": "code",
      "metadata": {
        "colab": {
          "base_uri": "https://localhost:8080/",
          "height": 0
        },
        "id": "rTgXMJW_z6R6",
        "outputId": "74ae4e5d-13e2-433d-ea6b-14663a15708a"
      },
      "source": [
        "aux.head()"
      ],
      "execution_count": 3,
      "outputs": [
        {
          "output_type": "execute_result",
          "data": {
            "text/html": [
              "<div>\n",
              "<style scoped>\n",
              "    .dataframe tbody tr th:only-of-type {\n",
              "        vertical-align: middle;\n",
              "    }\n",
              "\n",
              "    .dataframe tbody tr th {\n",
              "        vertical-align: top;\n",
              "    }\n",
              "\n",
              "    .dataframe thead th {\n",
              "        text-align: right;\n",
              "    }\n",
              "</style>\n",
              "<table border=\"1\" class=\"dataframe\">\n",
              "  <thead>\n",
              "    <tr style=\"text-align: right;\">\n",
              "      <th></th>\n",
              "      <th>Tipo Titulo</th>\n",
              "      <th>Data Vencimento</th>\n",
              "      <th>Data Base</th>\n",
              "      <th>Taxa Compra Manha</th>\n",
              "      <th>Taxa Venda Manha</th>\n",
              "      <th>PU Compra Manha</th>\n",
              "      <th>PU Venda Manha</th>\n",
              "      <th>PU Base Manha</th>\n",
              "    </tr>\n",
              "  </thead>\n",
              "  <tbody>\n",
              "    <tr>\n",
              "      <th>0</th>\n",
              "      <td>Tesouro Prefixado com Juros Semestrais</td>\n",
              "      <td>01/01/2029</td>\n",
              "      <td>09/10/2019</td>\n",
              "      <td>6,92</td>\n",
              "      <td>7,04</td>\n",
              "      <td>1228,86</td>\n",
              "      <td>1220,07</td>\n",
              "      <td>1219,74</td>\n",
              "    </tr>\n",
              "    <tr>\n",
              "      <th>1</th>\n",
              "      <td>Tesouro Prefixado com Juros Semestrais</td>\n",
              "      <td>01/01/2029</td>\n",
              "      <td>10/10/2019</td>\n",
              "      <td>6,85</td>\n",
              "      <td>6,97</td>\n",
              "      <td>1234,35</td>\n",
              "      <td>1225,51</td>\n",
              "      <td>1225,19</td>\n",
              "    </tr>\n",
              "    <tr>\n",
              "      <th>2</th>\n",
              "      <td>Tesouro Prefixado com Juros Semestrais</td>\n",
              "      <td>01/01/2029</td>\n",
              "      <td>11/10/2019</td>\n",
              "      <td>6,77</td>\n",
              "      <td>6,89</td>\n",
              "      <td>1240,61</td>\n",
              "      <td>1231,72</td>\n",
              "      <td>1231,39</td>\n",
              "    </tr>\n",
              "    <tr>\n",
              "      <th>3</th>\n",
              "      <td>Tesouro Prefixado com Juros Semestrais</td>\n",
              "      <td>01/01/2029</td>\n",
              "      <td>14/10/2019</td>\n",
              "      <td>6,63</td>\n",
              "      <td>6,75</td>\n",
              "      <td>1251,41</td>\n",
              "      <td>1242,42</td>\n",
              "      <td>1242,10</td>\n",
              "    </tr>\n",
              "    <tr>\n",
              "      <th>4</th>\n",
              "      <td>Tesouro Prefixado com Juros Semestrais</td>\n",
              "      <td>01/01/2029</td>\n",
              "      <td>15/10/2019</td>\n",
              "      <td>6,62</td>\n",
              "      <td>6,74</td>\n",
              "      <td>1252,49</td>\n",
              "      <td>1243,49</td>\n",
              "      <td>1243,17</td>\n",
              "    </tr>\n",
              "  </tbody>\n",
              "</table>\n",
              "</div>"
            ],
            "text/plain": [
              "                              Tipo Titulo  ... PU Base Manha\n",
              "0  Tesouro Prefixado com Juros Semestrais  ...       1219,74\n",
              "1  Tesouro Prefixado com Juros Semestrais  ...       1225,19\n",
              "2  Tesouro Prefixado com Juros Semestrais  ...       1231,39\n",
              "3  Tesouro Prefixado com Juros Semestrais  ...       1242,10\n",
              "4  Tesouro Prefixado com Juros Semestrais  ...       1243,17\n",
              "\n",
              "[5 rows x 8 columns]"
            ]
          },
          "metadata": {
            "tags": []
          },
          "execution_count": 3
        }
      ]
    },
    {
      "cell_type": "code",
      "metadata": {
        "colab": {
          "base_uri": "https://localhost:8080/"
        },
        "id": "JYdXIsDs0Ijh",
        "outputId": "38814d31-0dc4-47fc-b2a6-cf119cedd8e4"
      },
      "source": [
        "aux.dtypes"
      ],
      "execution_count": 4,
      "outputs": [
        {
          "output_type": "execute_result",
          "data": {
            "text/plain": [
              "Tipo Titulo          object\n",
              "Data Vencimento      object\n",
              "Data Base            object\n",
              "Taxa Compra Manha    object\n",
              "Taxa Venda Manha     object\n",
              "PU Compra Manha      object\n",
              "PU Venda Manha       object\n",
              "PU Base Manha        object\n",
              "dtype: object"
            ]
          },
          "metadata": {
            "tags": []
          },
          "execution_count": 4
        }
      ]
    },
    {
      "cell_type": "code",
      "metadata": {
        "colab": {
          "base_uri": "https://localhost:8080/"
        },
        "id": "7jKHUzrpF0hm",
        "outputId": "2c1237f7-bbf0-4feb-9d0f-58ac27b03f3e"
      },
      "source": [
        "tamanhoInicial = aux.shape[0]\n",
        "tamanhoInicial"
      ],
      "execution_count": 5,
      "outputs": [
        {
          "output_type": "execute_result",
          "data": {
            "text/plain": [
              "116800"
            ]
          },
          "metadata": {
            "tags": []
          },
          "execution_count": 5
        }
      ]
    },
    {
      "cell_type": "markdown",
      "metadata": {
        "id": "iUrrp4ZtEFAv"
      },
      "source": [
        "**reflexão**"
      ]
    },
    {
      "cell_type": "code",
      "metadata": {
        "colab": {
          "base_uri": "https://localhost:8080/"
        },
        "id": "Md1h_-BY6UjU",
        "outputId": "16a009dd-0770-436c-8736-941355c7ae65"
      },
      "source": [
        "print('Foram buscadas respectivamente linhas e colunas igual a ',aux.shape)\n",
        "print('na base de dados do historico do TesouroDireto')"
      ],
      "execution_count": 6,
      "outputs": [
        {
          "output_type": "stream",
          "text": [
            "Foram buscadas respectivamente linhas e colunas igual a  (116800, 8)\n",
            "na base de dados do historico do TesouroDireto\n"
          ],
          "name": "stdout"
        }
      ]
    },
    {
      "cell_type": "markdown",
      "metadata": {
        "id": "AyR6NlZN8VtI"
      },
      "source": [
        "### **Tratando nomes de coluna, retirada de espaços e outras necessidades**"
      ]
    },
    {
      "cell_type": "code",
      "metadata": {
        "colab": {
          "base_uri": "https://localhost:8080/"
        },
        "id": "Az7XsH5gs1K1",
        "outputId": "4360d721-476e-4a73-8576-b6a7fefb33c2"
      },
      "source": [
        "aux.columns"
      ],
      "execution_count": 7,
      "outputs": [
        {
          "output_type": "execute_result",
          "data": {
            "text/plain": [
              "Index(['Tipo Titulo', 'Data Vencimento', 'Data Base', 'Taxa Compra Manha',\n",
              "       'Taxa Venda Manha', 'PU Compra Manha', 'PU Venda Manha',\n",
              "       'PU Base Manha'],\n",
              "      dtype='object')"
            ]
          },
          "metadata": {
            "tags": []
          },
          "execution_count": 7
        }
      ]
    },
    {
      "cell_type": "code",
      "metadata": {
        "id": "vqfuP2bk6nBO"
      },
      "source": [
        "def funcLimpaColunaDataFrame(df):\n",
        "  str_columns = df.columns\n",
        "  renomear={}\n",
        "  for value in str_columns:\n",
        "    renomear[value] = value.replace('.','').replace(' ','_',2).replace(' ','').lower(  )\n",
        "  df = pd.DataFrame(df.rename(columns = renomear))\n",
        "  return df"
      ],
      "execution_count": 8,
      "outputs": []
    },
    {
      "cell_type": "code",
      "metadata": {
        "colab": {
          "base_uri": "https://localhost:8080/",
          "height": 0
        },
        "id": "IICksk7r8efF",
        "outputId": "a3d2a9ad-e163-4124-a8d7-200e9cdd6ce1"
      },
      "source": [
        "df = funcLimpaColunaDataFrame(aux)\n",
        "df.head()"
      ],
      "execution_count": 9,
      "outputs": [
        {
          "output_type": "execute_result",
          "data": {
            "text/html": [
              "<div>\n",
              "<style scoped>\n",
              "    .dataframe tbody tr th:only-of-type {\n",
              "        vertical-align: middle;\n",
              "    }\n",
              "\n",
              "    .dataframe tbody tr th {\n",
              "        vertical-align: top;\n",
              "    }\n",
              "\n",
              "    .dataframe thead th {\n",
              "        text-align: right;\n",
              "    }\n",
              "</style>\n",
              "<table border=\"1\" class=\"dataframe\">\n",
              "  <thead>\n",
              "    <tr style=\"text-align: right;\">\n",
              "      <th></th>\n",
              "      <th>tipo_titulo</th>\n",
              "      <th>data_vencimento</th>\n",
              "      <th>data_base</th>\n",
              "      <th>taxa_compra_manha</th>\n",
              "      <th>taxa_venda_manha</th>\n",
              "      <th>pu_compra_manha</th>\n",
              "      <th>pu_venda_manha</th>\n",
              "      <th>pu_base_manha</th>\n",
              "    </tr>\n",
              "  </thead>\n",
              "  <tbody>\n",
              "    <tr>\n",
              "      <th>0</th>\n",
              "      <td>Tesouro Prefixado com Juros Semestrais</td>\n",
              "      <td>01/01/2029</td>\n",
              "      <td>09/10/2019</td>\n",
              "      <td>6,92</td>\n",
              "      <td>7,04</td>\n",
              "      <td>1228,86</td>\n",
              "      <td>1220,07</td>\n",
              "      <td>1219,74</td>\n",
              "    </tr>\n",
              "    <tr>\n",
              "      <th>1</th>\n",
              "      <td>Tesouro Prefixado com Juros Semestrais</td>\n",
              "      <td>01/01/2029</td>\n",
              "      <td>10/10/2019</td>\n",
              "      <td>6,85</td>\n",
              "      <td>6,97</td>\n",
              "      <td>1234,35</td>\n",
              "      <td>1225,51</td>\n",
              "      <td>1225,19</td>\n",
              "    </tr>\n",
              "    <tr>\n",
              "      <th>2</th>\n",
              "      <td>Tesouro Prefixado com Juros Semestrais</td>\n",
              "      <td>01/01/2029</td>\n",
              "      <td>11/10/2019</td>\n",
              "      <td>6,77</td>\n",
              "      <td>6,89</td>\n",
              "      <td>1240,61</td>\n",
              "      <td>1231,72</td>\n",
              "      <td>1231,39</td>\n",
              "    </tr>\n",
              "    <tr>\n",
              "      <th>3</th>\n",
              "      <td>Tesouro Prefixado com Juros Semestrais</td>\n",
              "      <td>01/01/2029</td>\n",
              "      <td>14/10/2019</td>\n",
              "      <td>6,63</td>\n",
              "      <td>6,75</td>\n",
              "      <td>1251,41</td>\n",
              "      <td>1242,42</td>\n",
              "      <td>1242,10</td>\n",
              "    </tr>\n",
              "    <tr>\n",
              "      <th>4</th>\n",
              "      <td>Tesouro Prefixado com Juros Semestrais</td>\n",
              "      <td>01/01/2029</td>\n",
              "      <td>15/10/2019</td>\n",
              "      <td>6,62</td>\n",
              "      <td>6,74</td>\n",
              "      <td>1252,49</td>\n",
              "      <td>1243,49</td>\n",
              "      <td>1243,17</td>\n",
              "    </tr>\n",
              "  </tbody>\n",
              "</table>\n",
              "</div>"
            ],
            "text/plain": [
              "                              tipo_titulo  ... pu_base_manha\n",
              "0  Tesouro Prefixado com Juros Semestrais  ...       1219,74\n",
              "1  Tesouro Prefixado com Juros Semestrais  ...       1225,19\n",
              "2  Tesouro Prefixado com Juros Semestrais  ...       1231,39\n",
              "3  Tesouro Prefixado com Juros Semestrais  ...       1242,10\n",
              "4  Tesouro Prefixado com Juros Semestrais  ...       1243,17\n",
              "\n",
              "[5 rows x 8 columns]"
            ]
          },
          "metadata": {
            "tags": []
          },
          "execution_count": 9
        }
      ]
    },
    {
      "cell_type": "code",
      "metadata": {
        "colab": {
          "base_uri": "https://localhost:8080/"
        },
        "id": "iZoAMPnj8mUU",
        "outputId": "45680a08-59b6-46a0-fe38-f7e9ffba34f7"
      },
      "source": [
        "df.tipo_titulo.unique()"
      ],
      "execution_count": 10,
      "outputs": [
        {
          "output_type": "execute_result",
          "data": {
            "text/plain": [
              "array(['Tesouro Prefixado com Juros Semestrais', 'Tesouro IPCA+',\n",
              "       'Tesouro Prefixado', 'Tesouro Selic',\n",
              "       'Tesouro IGPM+ com Juros Semestrais',\n",
              "       'Tesouro IPCA+ com Juros Semestrais'], dtype=object)"
            ]
          },
          "metadata": {
            "tags": []
          },
          "execution_count": 10
        }
      ]
    },
    {
      "cell_type": "code",
      "metadata": {
        "id": "eki6DXps9u6A"
      },
      "source": [
        "def funcLimpaDadosDataFrame(df):\n",
        "  tipo_titulo = df.tipo_titulo\n",
        "  df.tipo_titulo = df.tipo_titulo.str.replace('Tesouro','').str.replace(' ','')\n",
        "  df.data_vencimento = pd.to_datetime(df.data_vencimento)\n",
        "  df.data_base = pd.to_datetime(df.data_base)\n",
        "  \n",
        "  df.taxa_compra_manha = df.taxa_compra_manha.str.replace(',','.')\n",
        "  df.taxa_compra_manha = pd.to_numeric(df.taxa_compra_manha)\n",
        "  \n",
        "  df.taxa_venda_manha = df.taxa_venda_manha.str.replace(',','.')\n",
        "  df.taxa_venda_manha = pd.to_numeric(df.taxa_venda_manha)\n",
        "  \n",
        "  df.pu_compra_manha = df.pu_compra_manha.str.replace(',','.')\n",
        "  df.pu_compra_manha = pd.to_numeric(df.pu_compra_manha)\n",
        "  \n",
        "  df.pu_venda_manha = df.pu_venda_manha.str.replace(',','.')\n",
        "  df.pu_venda_manha = pd.to_numeric(df.pu_venda_manha)\n",
        "  \n",
        "  df.pu_base_manha = df.pu_base_manha.str.replace(',','.')\n",
        "  df.pu_base_manha = pd.to_numeric(df.pu_base_manha)\n",
        "\n",
        "  return pd.DataFrame(df)"
      ],
      "execution_count": 11,
      "outputs": []
    },
    {
      "cell_type": "code",
      "metadata": {
        "id": "LGkNjCeI9yRl"
      },
      "source": [
        "df = funcLimpaDadosDataFrame(df)"
      ],
      "execution_count": 12,
      "outputs": []
    },
    {
      "cell_type": "code",
      "metadata": {
        "colab": {
          "base_uri": "https://localhost:8080/",
          "height": 0
        },
        "id": "3fMceok692fd",
        "outputId": "ae6f3acb-2303-43d6-81f8-f65ad5ea20c4"
      },
      "source": [
        "df"
      ],
      "execution_count": 13,
      "outputs": [
        {
          "output_type": "execute_result",
          "data": {
            "text/html": [
              "<div>\n",
              "<style scoped>\n",
              "    .dataframe tbody tr th:only-of-type {\n",
              "        vertical-align: middle;\n",
              "    }\n",
              "\n",
              "    .dataframe tbody tr th {\n",
              "        vertical-align: top;\n",
              "    }\n",
              "\n",
              "    .dataframe thead th {\n",
              "        text-align: right;\n",
              "    }\n",
              "</style>\n",
              "<table border=\"1\" class=\"dataframe\">\n",
              "  <thead>\n",
              "    <tr style=\"text-align: right;\">\n",
              "      <th></th>\n",
              "      <th>tipo_titulo</th>\n",
              "      <th>data_vencimento</th>\n",
              "      <th>data_base</th>\n",
              "      <th>taxa_compra_manha</th>\n",
              "      <th>taxa_venda_manha</th>\n",
              "      <th>pu_compra_manha</th>\n",
              "      <th>pu_venda_manha</th>\n",
              "      <th>pu_base_manha</th>\n",
              "    </tr>\n",
              "  </thead>\n",
              "  <tbody>\n",
              "    <tr>\n",
              "      <th>0</th>\n",
              "      <td>PrefixadocomJurosSemestrais</td>\n",
              "      <td>2029-01-01</td>\n",
              "      <td>2019-09-10</td>\n",
              "      <td>6.92</td>\n",
              "      <td>7.04</td>\n",
              "      <td>1228.86</td>\n",
              "      <td>1220.07</td>\n",
              "      <td>1219.74</td>\n",
              "    </tr>\n",
              "    <tr>\n",
              "      <th>1</th>\n",
              "      <td>PrefixadocomJurosSemestrais</td>\n",
              "      <td>2029-01-01</td>\n",
              "      <td>2019-10-10</td>\n",
              "      <td>6.85</td>\n",
              "      <td>6.97</td>\n",
              "      <td>1234.35</td>\n",
              "      <td>1225.51</td>\n",
              "      <td>1225.19</td>\n",
              "    </tr>\n",
              "    <tr>\n",
              "      <th>2</th>\n",
              "      <td>PrefixadocomJurosSemestrais</td>\n",
              "      <td>2029-01-01</td>\n",
              "      <td>2019-11-10</td>\n",
              "      <td>6.77</td>\n",
              "      <td>6.89</td>\n",
              "      <td>1240.61</td>\n",
              "      <td>1231.72</td>\n",
              "      <td>1231.39</td>\n",
              "    </tr>\n",
              "    <tr>\n",
              "      <th>3</th>\n",
              "      <td>PrefixadocomJurosSemestrais</td>\n",
              "      <td>2029-01-01</td>\n",
              "      <td>2019-10-14</td>\n",
              "      <td>6.63</td>\n",
              "      <td>6.75</td>\n",
              "      <td>1251.41</td>\n",
              "      <td>1242.42</td>\n",
              "      <td>1242.10</td>\n",
              "    </tr>\n",
              "    <tr>\n",
              "      <th>4</th>\n",
              "      <td>PrefixadocomJurosSemestrais</td>\n",
              "      <td>2029-01-01</td>\n",
              "      <td>2019-10-15</td>\n",
              "      <td>6.62</td>\n",
              "      <td>6.74</td>\n",
              "      <td>1252.49</td>\n",
              "      <td>1243.49</td>\n",
              "      <td>1243.17</td>\n",
              "    </tr>\n",
              "    <tr>\n",
              "      <th>...</th>\n",
              "      <td>...</td>\n",
              "      <td>...</td>\n",
              "      <td>...</td>\n",
              "      <td>...</td>\n",
              "      <td>...</td>\n",
              "      <td>...</td>\n",
              "      <td>...</td>\n",
              "      <td>...</td>\n",
              "    </tr>\n",
              "    <tr>\n",
              "      <th>116795</th>\n",
              "      <td>Prefixado</td>\n",
              "      <td>2026-01-01</td>\n",
              "      <td>2020-04-29</td>\n",
              "      <td>7.15</td>\n",
              "      <td>7.27</td>\n",
              "      <td>676.15</td>\n",
              "      <td>671.87</td>\n",
              "      <td>671.68</td>\n",
              "    </tr>\n",
              "    <tr>\n",
              "      <th>116796</th>\n",
              "      <td>Prefixado</td>\n",
              "      <td>2026-01-01</td>\n",
              "      <td>2020-04-30</td>\n",
              "      <td>7.09</td>\n",
              "      <td>7.21</td>\n",
              "      <td>678.48</td>\n",
              "      <td>674.19</td>\n",
              "      <td>674.01</td>\n",
              "    </tr>\n",
              "    <tr>\n",
              "      <th>116797</th>\n",
              "      <td>Prefixado</td>\n",
              "      <td>2026-01-01</td>\n",
              "      <td>2020-04-05</td>\n",
              "      <td>7.24</td>\n",
              "      <td>7.36</td>\n",
              "      <td>673.31</td>\n",
              "      <td>669.06</td>\n",
              "      <td>668.87</td>\n",
              "    </tr>\n",
              "    <tr>\n",
              "      <th>116798</th>\n",
              "      <td>Prefixado</td>\n",
              "      <td>2026-01-01</td>\n",
              "      <td>2020-05-05</td>\n",
              "      <td>6.91</td>\n",
              "      <td>7.03</td>\n",
              "      <td>685.34</td>\n",
              "      <td>681.00</td>\n",
              "      <td>680.82</td>\n",
              "    </tr>\n",
              "    <tr>\n",
              "      <th>116799</th>\n",
              "      <td>Prefixado</td>\n",
              "      <td>2026-01-01</td>\n",
              "      <td>2020-06-05</td>\n",
              "      <td>7.17</td>\n",
              "      <td>7.29</td>\n",
              "      <td>676.18</td>\n",
              "      <td>671.91</td>\n",
              "      <td>671.72</td>\n",
              "    </tr>\n",
              "  </tbody>\n",
              "</table>\n",
              "<p>116800 rows × 8 columns</p>\n",
              "</div>"
            ],
            "text/plain": [
              "                        tipo_titulo  ... pu_base_manha\n",
              "0       PrefixadocomJurosSemestrais  ...       1219.74\n",
              "1       PrefixadocomJurosSemestrais  ...       1225.19\n",
              "2       PrefixadocomJurosSemestrais  ...       1231.39\n",
              "3       PrefixadocomJurosSemestrais  ...       1242.10\n",
              "4       PrefixadocomJurosSemestrais  ...       1243.17\n",
              "...                             ...  ...           ...\n",
              "116795                    Prefixado  ...        671.68\n",
              "116796                    Prefixado  ...        674.01\n",
              "116797                    Prefixado  ...        668.87\n",
              "116798                    Prefixado  ...        680.82\n",
              "116799                    Prefixado  ...        671.72\n",
              "\n",
              "[116800 rows x 8 columns]"
            ]
          },
          "metadata": {
            "tags": []
          },
          "execution_count": 13
        }
      ]
    },
    {
      "cell_type": "markdown",
      "metadata": {
        "id": "SSg_I5QREahz"
      },
      "source": [
        "**reflexão**"
      ]
    },
    {
      "cell_type": "code",
      "metadata": {
        "colab": {
          "base_uri": "https://localhost:8080/"
        },
        "id": "fHov20hsEcms",
        "outputId": "ef773b42-e7f5-4f37-f4fe-8489904fe700"
      },
      "source": [
        "print('Agora temos tipos indentificados e nossa estrutura de dados não possui mais espaçoes')\n",
        "print(' ')\n",
        "df.dtypes"
      ],
      "execution_count": 14,
      "outputs": [
        {
          "output_type": "stream",
          "text": [
            "Agora temos tipos indentificados e nossa estrutura de dados não possui mais espaçoes\n",
            " \n"
          ],
          "name": "stdout"
        },
        {
          "output_type": "execute_result",
          "data": {
            "text/plain": [
              "tipo_titulo                  object\n",
              "data_vencimento      datetime64[ns]\n",
              "data_base            datetime64[ns]\n",
              "taxa_compra_manha           float64\n",
              "taxa_venda_manha            float64\n",
              "pu_compra_manha             float64\n",
              "pu_venda_manha              float64\n",
              "pu_base_manha               float64\n",
              "dtype: object"
            ]
          },
          "metadata": {
            "tags": []
          },
          "execution_count": 14
        }
      ]
    },
    {
      "cell_type": "markdown",
      "metadata": {
        "id": "B5FJ3nJsUsU0"
      },
      "source": [
        "### Limpando linhas de TD  com vencimento passado"
      ]
    },
    {
      "cell_type": "code",
      "metadata": {
        "colab": {
          "base_uri": "https://localhost:8080/"
        },
        "id": "Y6L9AulLU3Q-",
        "outputId": "96e32292-de86-407a-be8a-7c606b02945b"
      },
      "source": [
        "vencimentos = df.data_vencimento.unique()\n",
        "vencimentos"
      ],
      "execution_count": 15,
      "outputs": [
        {
          "output_type": "execute_result",
          "data": {
            "text/plain": [
              "array(['2029-01-01T00:00:00.000000000', '2045-05-15T00:00:00.000000000',\n",
              "       '2022-01-01T00:00:00.000000000', '2021-01-01T00:00:00.000000000',\n",
              "       '2025-01-01T00:00:00.000000000', '2008-01-01T00:00:00.000000000',\n",
              "       '2007-01-01T00:00:00.000000000', '2007-01-04T00:00:00.000000000',\n",
              "       '2007-01-07T00:00:00.000000000', '2007-01-10T00:00:00.000000000',\n",
              "       '2019-05-15T00:00:00.000000000', '2018-01-01T00:00:00.000000000',\n",
              "       '2027-01-01T00:00:00.000000000', '2023-01-03T00:00:00.000000000',\n",
              "       '2023-01-01T00:00:00.000000000', '2010-01-07T00:00:00.000000000',\n",
              "       '2008-01-04T00:00:00.000000000', '2011-01-03T00:00:00.000000000',\n",
              "       '2010-01-01T00:00:00.000000000', '2011-01-01T00:00:00.000000000',\n",
              "       '2009-03-18T00:00:00.000000000', '2010-03-17T00:00:00.000000000',\n",
              "       '2006-01-04T00:00:00.000000000', '2005-02-16T00:00:00.000000000',\n",
              "       '2006-01-18T00:00:00.000000000', '2011-03-16T00:00:00.000000000',\n",
              "       '2006-01-07T00:00:00.000000000', '2007-01-17T00:00:00.000000000',\n",
              "       '2006-01-10T00:00:00.000000000', '2008-06-18T00:00:00.000000000',\n",
              "       '2013-08-03T00:00:00.000000000', '2005-04-01T00:00:00.000000000',\n",
              "       '2005-01-04T00:00:00.000000000', '2005-01-07T00:00:00.000000000',\n",
              "       '2005-01-10T00:00:00.000000000', '2006-01-01T00:00:00.000000000',\n",
              "       '2017-01-07T00:00:00.000000000', '2012-01-01T00:00:00.000000000',\n",
              "       '2015-01-01T00:00:00.000000000', '2013-01-01T00:00:00.000000000',\n",
              "       '2014-01-01T00:00:00.000000000', '2021-01-04T00:00:00.000000000',\n",
              "       '2031-01-01T00:00:00.000000000', '2013-07-03T00:00:00.000000000',\n",
              "       '2012-07-03T00:00:00.000000000', '2014-07-03T00:00:00.000000000',\n",
              "       '2017-07-03T00:00:00.000000000', '2013-05-15T00:00:00.000000000',\n",
              "       '2012-08-15T00:00:00.000000000', '2015-07-03T00:00:00.000000000',\n",
              "       '2015-05-15T00:00:00.000000000', '2017-05-15T00:00:00.000000000',\n",
              "       '2020-08-15T00:00:00.000000000', '2024-08-15T00:00:00.000000000',\n",
              "       '2035-05-15T00:00:00.000000000', '2030-08-15T00:00:00.000000000',\n",
              "       '2040-08-15T00:00:00.000000000', '2050-08-15T00:00:00.000000000',\n",
              "       '2017-01-01T00:00:00.000000000', '2009-05-15T00:00:00.000000000',\n",
              "       '2010-08-15T00:00:00.000000000', '2005-01-12T00:00:00.000000000',\n",
              "       '2006-01-12T00:00:00.000000000', '2008-08-15T00:00:00.000000000',\n",
              "       '2011-05-15T00:00:00.000000000', '2007-05-15T00:00:00.000000000',\n",
              "       '2026-08-15T00:00:00.000000000', '2055-05-15T00:00:00.000000000',\n",
              "       '2021-01-03T00:00:00.000000000', '2019-01-01T00:00:00.000000000',\n",
              "       '2020-01-01T00:00:00.000000000', '2016-01-01T00:00:00.000000000',\n",
              "       '2011-01-07T00:00:00.000000000', '2009-01-01T00:00:00.000000000',\n",
              "       '2006-08-15T00:00:00.000000000', '2009-01-04T00:00:00.000000000',\n",
              "       '2008-01-07T00:00:00.000000000', '2009-01-07T00:00:00.000000000',\n",
              "       '2008-01-10T00:00:00.000000000', '2009-01-10T00:00:00.000000000',\n",
              "       '2026-01-01T00:00:00.000000000', '2024-01-07T00:00:00.000000000',\n",
              "       '2027-01-03T00:00:00.000000000', '2025-01-03T00:00:00.000000000',\n",
              "       '2024-01-09T00:00:00.000000000'], dtype='datetime64[ns]')"
            ]
          },
          "metadata": {
            "tags": []
          },
          "execution_count": 15
        }
      ]
    },
    {
      "cell_type": "code",
      "metadata": {
        "colab": {
          "base_uri": "https://localhost:8080/"
        },
        "id": "7CdOE9E6VKK7",
        "outputId": "9e8c2a23-e628-4856-a660-58d4aa1aaa41"
      },
      "source": [
        "today = pd.to_datetime(\"today\")\n",
        "today"
      ],
      "execution_count": 16,
      "outputs": [
        {
          "output_type": "execute_result",
          "data": {
            "text/plain": [
              "Timestamp('2021-07-22 12:45:34.897510')"
            ]
          },
          "metadata": {
            "tags": []
          },
          "execution_count": 16
        }
      ]
    },
    {
      "cell_type": "code",
      "metadata": {
        "colab": {
          "base_uri": "https://localhost:8080/"
        },
        "id": "hpXEwmyVVT5x",
        "outputId": "23283d16-c019-4539-da5b-e62ae81b02eb"
      },
      "source": [
        "filtro_datas = df[df['data_vencimento']<today].index\n",
        "filtro_datas"
      ],
      "execution_count": 17,
      "outputs": [
        {
          "output_type": "execute_result",
          "data": {
            "text/plain": [
              "Int64Index([  1319,   1320,   1321,   1322,   1323,   1324,   1325,   1326,\n",
              "              1327,   1328,\n",
              "            ...\n",
              "            113644, 113645, 113646, 113647, 113648, 113649, 113650, 113651,\n",
              "            113652, 113653],\n",
              "           dtype='int64', length=75620)"
            ]
          },
          "metadata": {
            "tags": []
          },
          "execution_count": 17
        }
      ]
    },
    {
      "cell_type": "code",
      "metadata": {
        "colab": {
          "base_uri": "https://localhost:8080/",
          "height": 605
        },
        "id": "6ngMeYVDWie1",
        "outputId": "dd51ed59-8096-4ef1-cb96-89659662b6f4"
      },
      "source": [
        "df = df.drop(filtro_datas)\n",
        "df"
      ],
      "execution_count": 18,
      "outputs": [
        {
          "output_type": "execute_result",
          "data": {
            "text/html": [
              "<div>\n",
              "<style scoped>\n",
              "    .dataframe tbody tr th:only-of-type {\n",
              "        vertical-align: middle;\n",
              "    }\n",
              "\n",
              "    .dataframe tbody tr th {\n",
              "        vertical-align: top;\n",
              "    }\n",
              "\n",
              "    .dataframe thead th {\n",
              "        text-align: right;\n",
              "    }\n",
              "</style>\n",
              "<table border=\"1\" class=\"dataframe\">\n",
              "  <thead>\n",
              "    <tr style=\"text-align: right;\">\n",
              "      <th></th>\n",
              "      <th>tipo_titulo</th>\n",
              "      <th>data_vencimento</th>\n",
              "      <th>data_base</th>\n",
              "      <th>taxa_compra_manha</th>\n",
              "      <th>taxa_venda_manha</th>\n",
              "      <th>pu_compra_manha</th>\n",
              "      <th>pu_venda_manha</th>\n",
              "      <th>pu_base_manha</th>\n",
              "    </tr>\n",
              "  </thead>\n",
              "  <tbody>\n",
              "    <tr>\n",
              "      <th>0</th>\n",
              "      <td>PrefixadocomJurosSemestrais</td>\n",
              "      <td>2029-01-01</td>\n",
              "      <td>2019-09-10</td>\n",
              "      <td>6.92</td>\n",
              "      <td>7.04</td>\n",
              "      <td>1228.86</td>\n",
              "      <td>1220.07</td>\n",
              "      <td>1219.74</td>\n",
              "    </tr>\n",
              "    <tr>\n",
              "      <th>1</th>\n",
              "      <td>PrefixadocomJurosSemestrais</td>\n",
              "      <td>2029-01-01</td>\n",
              "      <td>2019-10-10</td>\n",
              "      <td>6.85</td>\n",
              "      <td>6.97</td>\n",
              "      <td>1234.35</td>\n",
              "      <td>1225.51</td>\n",
              "      <td>1225.19</td>\n",
              "    </tr>\n",
              "    <tr>\n",
              "      <th>2</th>\n",
              "      <td>PrefixadocomJurosSemestrais</td>\n",
              "      <td>2029-01-01</td>\n",
              "      <td>2019-11-10</td>\n",
              "      <td>6.77</td>\n",
              "      <td>6.89</td>\n",
              "      <td>1240.61</td>\n",
              "      <td>1231.72</td>\n",
              "      <td>1231.39</td>\n",
              "    </tr>\n",
              "    <tr>\n",
              "      <th>3</th>\n",
              "      <td>PrefixadocomJurosSemestrais</td>\n",
              "      <td>2029-01-01</td>\n",
              "      <td>2019-10-14</td>\n",
              "      <td>6.63</td>\n",
              "      <td>6.75</td>\n",
              "      <td>1251.41</td>\n",
              "      <td>1242.42</td>\n",
              "      <td>1242.10</td>\n",
              "    </tr>\n",
              "    <tr>\n",
              "      <th>4</th>\n",
              "      <td>PrefixadocomJurosSemestrais</td>\n",
              "      <td>2029-01-01</td>\n",
              "      <td>2019-10-15</td>\n",
              "      <td>6.62</td>\n",
              "      <td>6.74</td>\n",
              "      <td>1252.49</td>\n",
              "      <td>1243.49</td>\n",
              "      <td>1243.17</td>\n",
              "    </tr>\n",
              "    <tr>\n",
              "      <th>...</th>\n",
              "      <td>...</td>\n",
              "      <td>...</td>\n",
              "      <td>...</td>\n",
              "      <td>...</td>\n",
              "      <td>...</td>\n",
              "      <td>...</td>\n",
              "      <td>...</td>\n",
              "      <td>...</td>\n",
              "    </tr>\n",
              "    <tr>\n",
              "      <th>116795</th>\n",
              "      <td>Prefixado</td>\n",
              "      <td>2026-01-01</td>\n",
              "      <td>2020-04-29</td>\n",
              "      <td>7.15</td>\n",
              "      <td>7.27</td>\n",
              "      <td>676.15</td>\n",
              "      <td>671.87</td>\n",
              "      <td>671.68</td>\n",
              "    </tr>\n",
              "    <tr>\n",
              "      <th>116796</th>\n",
              "      <td>Prefixado</td>\n",
              "      <td>2026-01-01</td>\n",
              "      <td>2020-04-30</td>\n",
              "      <td>7.09</td>\n",
              "      <td>7.21</td>\n",
              "      <td>678.48</td>\n",
              "      <td>674.19</td>\n",
              "      <td>674.01</td>\n",
              "    </tr>\n",
              "    <tr>\n",
              "      <th>116797</th>\n",
              "      <td>Prefixado</td>\n",
              "      <td>2026-01-01</td>\n",
              "      <td>2020-04-05</td>\n",
              "      <td>7.24</td>\n",
              "      <td>7.36</td>\n",
              "      <td>673.31</td>\n",
              "      <td>669.06</td>\n",
              "      <td>668.87</td>\n",
              "    </tr>\n",
              "    <tr>\n",
              "      <th>116798</th>\n",
              "      <td>Prefixado</td>\n",
              "      <td>2026-01-01</td>\n",
              "      <td>2020-05-05</td>\n",
              "      <td>6.91</td>\n",
              "      <td>7.03</td>\n",
              "      <td>685.34</td>\n",
              "      <td>681.00</td>\n",
              "      <td>680.82</td>\n",
              "    </tr>\n",
              "    <tr>\n",
              "      <th>116799</th>\n",
              "      <td>Prefixado</td>\n",
              "      <td>2026-01-01</td>\n",
              "      <td>2020-06-05</td>\n",
              "      <td>7.17</td>\n",
              "      <td>7.29</td>\n",
              "      <td>676.18</td>\n",
              "      <td>671.91</td>\n",
              "      <td>671.72</td>\n",
              "    </tr>\n",
              "  </tbody>\n",
              "</table>\n",
              "<p>41180 rows × 8 columns</p>\n",
              "</div>"
            ],
            "text/plain": [
              "                        tipo_titulo  ... pu_base_manha\n",
              "0       PrefixadocomJurosSemestrais  ...       1219.74\n",
              "1       PrefixadocomJurosSemestrais  ...       1225.19\n",
              "2       PrefixadocomJurosSemestrais  ...       1231.39\n",
              "3       PrefixadocomJurosSemestrais  ...       1242.10\n",
              "4       PrefixadocomJurosSemestrais  ...       1243.17\n",
              "...                             ...  ...           ...\n",
              "116795                    Prefixado  ...        671.68\n",
              "116796                    Prefixado  ...        674.01\n",
              "116797                    Prefixado  ...        668.87\n",
              "116798                    Prefixado  ...        680.82\n",
              "116799                    Prefixado  ...        671.72\n",
              "\n",
              "[41180 rows x 8 columns]"
            ]
          },
          "metadata": {
            "tags": []
          },
          "execution_count": 18
        }
      ]
    },
    {
      "cell_type": "markdown",
      "metadata": {
        "id": "yyxrWITtFGpB"
      },
      "source": [
        "**reflexão**"
      ]
    },
    {
      "cell_type": "code",
      "metadata": {
        "colab": {
          "base_uri": "https://localhost:8080/"
        },
        "id": "VvbP__gEFBlh",
        "outputId": "11c944d7-377c-40a1-b24f-3f7b44b0674e"
      },
      "source": [
        "print('A Manipulação de datas e da nossa estrutura de dado foi otima')\n",
        "print('Agora temos apenas dados com relevancia atual, com respectivamente linhas e colunas igual a', df.shape)\n",
        "print('Isso diminuiu o volume de dados para apenas ',round((df.shape[0]/tamanhoInicial)*100),'% do total inicial')"
      ],
      "execution_count": 19,
      "outputs": [
        {
          "output_type": "stream",
          "text": [
            "A Manipulação de datas e da nossa estrutura de dado foi otima\n",
            "Agora temos apenas dados com relevancia atual, com respectivamente linhas e colunas igual a (41180, 8)\n",
            "Isso diminuiu o volume de dados para apenas  35 % do total inicial\n"
          ],
          "name": "stdout"
        }
      ]
    },
    {
      "cell_type": "markdown",
      "metadata": {
        "id": "2-NFtggdDGs6"
      },
      "source": [
        "### Iniciando separação dos tipos de tesouro"
      ]
    },
    {
      "cell_type": "markdown",
      "metadata": {
        "id": "nyWO5U_AN3Yf"
      },
      "source": [
        "Separando por tipo de taxa - Temos SELIC, IPCA+ E Prefixados\n"
      ]
    },
    {
      "cell_type": "code",
      "metadata": {
        "colab": {
          "base_uri": "https://localhost:8080/"
        },
        "id": "voFR-uSKEMyN",
        "outputId": "a71bc76d-8238-447c-909e-2624f3a58dca"
      },
      "source": [
        "tipo_titulo = df.tipo_titulo.unique()\n",
        "tipo_titulo"
      ],
      "execution_count": 20,
      "outputs": [
        {
          "output_type": "execute_result",
          "data": {
            "text/plain": [
              "array(['PrefixadocomJurosSemestrais', 'IPCA+', 'Prefixado', 'Selic',\n",
              "       'IGPM+comJurosSemestrais', 'IPCA+comJurosSemestrais'], dtype=object)"
            ]
          },
          "metadata": {
            "tags": []
          },
          "execution_count": 20
        }
      ]
    },
    {
      "cell_type": "code",
      "metadata": {
        "id": "Yn2TNuXhC8qI"
      },
      "source": [
        "df_prejuros = df[df['tipo_titulo']=='PrefixadocomJurosSemestrais']\n",
        "df_pre =  df[df['tipo_titulo']=='Prefixado']\n",
        "\n",
        "df_ipcajuros = df[df['tipo_titulo']=='IPCA+comJurosSemestrais']\n",
        "df_ipca =  df[df['tipo_titulo']=='IPCA+']\n",
        "\n",
        "df_selic =  df[df['tipo_titulo']=='Selic']"
      ],
      "execution_count": 21,
      "outputs": []
    },
    {
      "cell_type": "code",
      "metadata": {
        "colab": {
          "base_uri": "https://localhost:8080/",
          "height": 307
        },
        "id": "n3ORNpk3H340",
        "outputId": "e72a44d3-4cae-4e55-b503-92535f1feeb4"
      },
      "source": [
        "df_selic.head()"
      ],
      "execution_count": 22,
      "outputs": [
        {
          "output_type": "execute_result",
          "data": {
            "text/html": [
              "<div>\n",
              "<style scoped>\n",
              "    .dataframe tbody tr th:only-of-type {\n",
              "        vertical-align: middle;\n",
              "    }\n",
              "\n",
              "    .dataframe tbody tr th {\n",
              "        vertical-align: top;\n",
              "    }\n",
              "\n",
              "    .dataframe thead th {\n",
              "        text-align: right;\n",
              "    }\n",
              "</style>\n",
              "<table border=\"1\" class=\"dataframe\">\n",
              "  <thead>\n",
              "    <tr style=\"text-align: right;\">\n",
              "      <th></th>\n",
              "      <th>tipo_titulo</th>\n",
              "      <th>data_vencimento</th>\n",
              "      <th>data_base</th>\n",
              "      <th>taxa_compra_manha</th>\n",
              "      <th>taxa_venda_manha</th>\n",
              "      <th>pu_compra_manha</th>\n",
              "      <th>pu_venda_manha</th>\n",
              "      <th>pu_base_manha</th>\n",
              "    </tr>\n",
              "  </thead>\n",
              "  <tbody>\n",
              "    <tr>\n",
              "      <th>8311</th>\n",
              "      <td>Selic</td>\n",
              "      <td>2023-01-03</td>\n",
              "      <td>2018-08-06</td>\n",
              "      <td>0.02</td>\n",
              "      <td>0.06</td>\n",
              "      <td>9536.77</td>\n",
              "      <td>9518.83</td>\n",
              "      <td>9516.43</td>\n",
              "    </tr>\n",
              "    <tr>\n",
              "      <th>8312</th>\n",
              "      <td>Selic</td>\n",
              "      <td>2023-01-03</td>\n",
              "      <td>2018-11-06</td>\n",
              "      <td>0.02</td>\n",
              "      <td>0.06</td>\n",
              "      <td>9539.13</td>\n",
              "      <td>9521.20</td>\n",
              "      <td>9518.79</td>\n",
              "    </tr>\n",
              "    <tr>\n",
              "      <th>8313</th>\n",
              "      <td>Selic</td>\n",
              "      <td>2023-01-03</td>\n",
              "      <td>2018-12-06</td>\n",
              "      <td>0.02</td>\n",
              "      <td>0.06</td>\n",
              "      <td>9541.49</td>\n",
              "      <td>9523.56</td>\n",
              "      <td>9521.16</td>\n",
              "    </tr>\n",
              "    <tr>\n",
              "      <th>8314</th>\n",
              "      <td>Selic</td>\n",
              "      <td>2023-01-03</td>\n",
              "      <td>2018-06-13</td>\n",
              "      <td>0.02</td>\n",
              "      <td>0.06</td>\n",
              "      <td>9543.84</td>\n",
              "      <td>9525.93</td>\n",
              "      <td>9523.53</td>\n",
              "    </tr>\n",
              "    <tr>\n",
              "      <th>8315</th>\n",
              "      <td>Selic</td>\n",
              "      <td>2023-01-03</td>\n",
              "      <td>2018-06-14</td>\n",
              "      <td>0.02</td>\n",
              "      <td>0.06</td>\n",
              "      <td>9546.20</td>\n",
              "      <td>9528.30</td>\n",
              "      <td>9525.89</td>\n",
              "    </tr>\n",
              "  </tbody>\n",
              "</table>\n",
              "</div>"
            ],
            "text/plain": [
              "     tipo_titulo data_vencimento  ... pu_venda_manha  pu_base_manha\n",
              "8311       Selic      2023-01-03  ...        9518.83        9516.43\n",
              "8312       Selic      2023-01-03  ...        9521.20        9518.79\n",
              "8313       Selic      2023-01-03  ...        9523.56        9521.16\n",
              "8314       Selic      2023-01-03  ...        9525.93        9523.53\n",
              "8315       Selic      2023-01-03  ...        9528.30        9525.89\n",
              "\n",
              "[5 rows x 8 columns]"
            ]
          },
          "metadata": {
            "tags": []
          },
          "execution_count": 22
        }
      ]
    },
    {
      "cell_type": "code",
      "metadata": {
        "colab": {
          "base_uri": "https://localhost:8080/"
        },
        "id": "pxf74bybLnSe",
        "outputId": "7fe49eea-e7b7-43b9-8b5e-f5995cbc9207"
      },
      "source": [
        "df_ipca.dtypes"
      ],
      "execution_count": 23,
      "outputs": [
        {
          "output_type": "execute_result",
          "data": {
            "text/plain": [
              "tipo_titulo                  object\n",
              "data_vencimento      datetime64[ns]\n",
              "data_base            datetime64[ns]\n",
              "taxa_compra_manha           float64\n",
              "taxa_venda_manha            float64\n",
              "pu_compra_manha             float64\n",
              "pu_venda_manha              float64\n",
              "pu_base_manha               float64\n",
              "dtype: object"
            ]
          },
          "metadata": {
            "tags": []
          },
          "execution_count": 23
        }
      ]
    },
    {
      "cell_type": "code",
      "metadata": {
        "id": "mNFFm-RELrEr"
      },
      "source": [
        "def funcLimpaColunaTipo(df):\n",
        "  df.drop(columns='tipo_titulo',inplace=True)\n",
        "  return pd.DataFrame(df)\n"
      ],
      "execution_count": 24,
      "outputs": []
    },
    {
      "cell_type": "code",
      "metadata": {
        "colab": {
          "base_uri": "https://localhost:8080/"
        },
        "id": "66JJdodIMPja",
        "outputId": "5c6df1ed-1641-47ce-d67d-cf6cb6dcb647"
      },
      "source": [
        "df_prejuros = funcLimpaColunaTipo(df_prejuros)\n",
        "df_pre = funcLimpaColunaTipo(df_pre)\n",
        "\n",
        "df_ipcajuros = funcLimpaColunaTipo(df_ipcajuros)\n",
        "df_ipca = funcLimpaColunaTipo(df_ipca)\n",
        "\n",
        "df_selic = funcLimpaColunaTipo(df_selic)"
      ],
      "execution_count": 25,
      "outputs": [
        {
          "output_type": "stream",
          "text": [
            "/usr/local/lib/python3.7/dist-packages/pandas/core/frame.py:4174: SettingWithCopyWarning: \n",
            "A value is trying to be set on a copy of a slice from a DataFrame\n",
            "\n",
            "See the caveats in the documentation: https://pandas.pydata.org/pandas-docs/stable/user_guide/indexing.html#returning-a-view-versus-a-copy\n",
            "  errors=errors,\n"
          ],
          "name": "stderr"
        }
      ]
    },
    {
      "cell_type": "code",
      "metadata": {
        "colab": {
          "base_uri": "https://localhost:8080/",
          "height": 417
        },
        "id": "OVCSG26VMkfj",
        "outputId": "832d6699-fc09-4f67-b13f-0345411af91d"
      },
      "source": [
        "df_ipca"
      ],
      "execution_count": 26,
      "outputs": [
        {
          "output_type": "execute_result",
          "data": {
            "text/html": [
              "<div>\n",
              "<style scoped>\n",
              "    .dataframe tbody tr th:only-of-type {\n",
              "        vertical-align: middle;\n",
              "    }\n",
              "\n",
              "    .dataframe tbody tr th {\n",
              "        vertical-align: top;\n",
              "    }\n",
              "\n",
              "    .dataframe thead th {\n",
              "        text-align: right;\n",
              "    }\n",
              "</style>\n",
              "<table border=\"1\" class=\"dataframe\">\n",
              "  <thead>\n",
              "    <tr style=\"text-align: right;\">\n",
              "      <th></th>\n",
              "      <th>data_vencimento</th>\n",
              "      <th>data_base</th>\n",
              "      <th>taxa_compra_manha</th>\n",
              "      <th>taxa_venda_manha</th>\n",
              "      <th>pu_compra_manha</th>\n",
              "      <th>pu_venda_manha</th>\n",
              "      <th>pu_base_manha</th>\n",
              "    </tr>\n",
              "  </thead>\n",
              "  <tbody>\n",
              "    <tr>\n",
              "      <th>174</th>\n",
              "      <td>2045-05-15</td>\n",
              "      <td>2021-03-02</td>\n",
              "      <td>3.57</td>\n",
              "      <td>3.69</td>\n",
              "      <td>1476.76</td>\n",
              "      <td>1435.96</td>\n",
              "      <td>1435.62</td>\n",
              "    </tr>\n",
              "    <tr>\n",
              "      <th>175</th>\n",
              "      <td>2045-05-15</td>\n",
              "      <td>2021-04-02</td>\n",
              "      <td>3.51</td>\n",
              "      <td>3.63</td>\n",
              "      <td>1497.96</td>\n",
              "      <td>1456.56</td>\n",
              "      <td>1456.21</td>\n",
              "    </tr>\n",
              "    <tr>\n",
              "      <th>176</th>\n",
              "      <td>2045-05-15</td>\n",
              "      <td>2021-05-02</td>\n",
              "      <td>3.55</td>\n",
              "      <td>3.67</td>\n",
              "      <td>1484.66</td>\n",
              "      <td>1443.65</td>\n",
              "      <td>1443.02</td>\n",
              "    </tr>\n",
              "    <tr>\n",
              "      <th>177</th>\n",
              "      <td>2045-05-15</td>\n",
              "      <td>2021-08-02</td>\n",
              "      <td>3.55</td>\n",
              "      <td>3.67</td>\n",
              "      <td>1485.01</td>\n",
              "      <td>1444.00</td>\n",
              "      <td>1443.65</td>\n",
              "    </tr>\n",
              "    <tr>\n",
              "      <th>178</th>\n",
              "      <td>2045-05-15</td>\n",
              "      <td>2021-09-02</td>\n",
              "      <td>3.60</td>\n",
              "      <td>3.72</td>\n",
              "      <td>1467.51</td>\n",
              "      <td>1427.01</td>\n",
              "      <td>1426.68</td>\n",
              "    </tr>\n",
              "    <tr>\n",
              "      <th>...</th>\n",
              "      <td>...</td>\n",
              "      <td>...</td>\n",
              "      <td>...</td>\n",
              "      <td>...</td>\n",
              "      <td>...</td>\n",
              "      <td>...</td>\n",
              "      <td>...</td>\n",
              "    </tr>\n",
              "    <tr>\n",
              "      <th>116561</th>\n",
              "      <td>2026-08-15</td>\n",
              "      <td>2021-07-15</td>\n",
              "      <td>3.74</td>\n",
              "      <td>3.86</td>\n",
              "      <td>2966.73</td>\n",
              "      <td>2949.38</td>\n",
              "      <td>2948.19</td>\n",
              "    </tr>\n",
              "    <tr>\n",
              "      <th>116562</th>\n",
              "      <td>2026-08-15</td>\n",
              "      <td>2021-07-16</td>\n",
              "      <td>3.65</td>\n",
              "      <td>3.77</td>\n",
              "      <td>2982.49</td>\n",
              "      <td>2965.05</td>\n",
              "      <td>2962.38</td>\n",
              "    </tr>\n",
              "    <tr>\n",
              "      <th>116563</th>\n",
              "      <td>2026-08-15</td>\n",
              "      <td>2021-07-19</td>\n",
              "      <td>3.66</td>\n",
              "      <td>3.78</td>\n",
              "      <td>2982.21</td>\n",
              "      <td>2964.78</td>\n",
              "      <td>2963.60</td>\n",
              "    </tr>\n",
              "    <tr>\n",
              "      <th>116564</th>\n",
              "      <td>2026-08-15</td>\n",
              "      <td>2021-07-20</td>\n",
              "      <td>3.63</td>\n",
              "      <td>3.75</td>\n",
              "      <td>2987.76</td>\n",
              "      <td>2970.30</td>\n",
              "      <td>2969.12</td>\n",
              "    </tr>\n",
              "    <tr>\n",
              "      <th>116565</th>\n",
              "      <td>2026-08-15</td>\n",
              "      <td>2021-07-21</td>\n",
              "      <td>3.63</td>\n",
              "      <td>3.75</td>\n",
              "      <td>2988.93</td>\n",
              "      <td>2971.48</td>\n",
              "      <td>2970.30</td>\n",
              "    </tr>\n",
              "  </tbody>\n",
              "</table>\n",
              "<p>8294 rows × 7 columns</p>\n",
              "</div>"
            ],
            "text/plain": [
              "       data_vencimento  data_base  ...  pu_venda_manha  pu_base_manha\n",
              "174         2045-05-15 2021-03-02  ...         1435.96        1435.62\n",
              "175         2045-05-15 2021-04-02  ...         1456.56        1456.21\n",
              "176         2045-05-15 2021-05-02  ...         1443.65        1443.02\n",
              "177         2045-05-15 2021-08-02  ...         1444.00        1443.65\n",
              "178         2045-05-15 2021-09-02  ...         1427.01        1426.68\n",
              "...                ...        ...  ...             ...            ...\n",
              "116561      2026-08-15 2021-07-15  ...         2949.38        2948.19\n",
              "116562      2026-08-15 2021-07-16  ...         2965.05        2962.38\n",
              "116563      2026-08-15 2021-07-19  ...         2964.78        2963.60\n",
              "116564      2026-08-15 2021-07-20  ...         2970.30        2969.12\n",
              "116565      2026-08-15 2021-07-21  ...         2971.48        2970.30\n",
              "\n",
              "[8294 rows x 7 columns]"
            ]
          },
          "metadata": {
            "tags": []
          },
          "execution_count": 26
        }
      ]
    },
    {
      "cell_type": "markdown",
      "metadata": {
        "id": "JIHabOzNUKt6"
      },
      "source": [
        "2º etapa de separecao dos titulos do TD - temos diferentes titulos, cada um com seu vencimento"
      ]
    },
    {
      "cell_type": "code",
      "metadata": {
        "colab": {
          "base_uri": "https://localhost:8080/"
        },
        "id": "mHSmy88oMmYE",
        "outputId": "b5062c84-2b09-4809-e7d9-78662ee931ee"
      },
      "source": [
        "tipos_ipca = df_ipca.data_vencimento.unique()\n",
        "tipos_ipca"
      ],
      "execution_count": 27,
      "outputs": [
        {
          "output_type": "execute_result",
          "data": {
            "text/plain": [
              "array(['2045-05-15T00:00:00.000000000', '2024-08-15T00:00:00.000000000',\n",
              "       '2035-05-15T00:00:00.000000000', '2026-08-15T00:00:00.000000000'],\n",
              "      dtype='datetime64[ns]')"
            ]
          },
          "metadata": {
            "tags": []
          },
          "execution_count": 27
        }
      ]
    },
    {
      "cell_type": "code",
      "metadata": {
        "colab": {
          "base_uri": "https://localhost:8080/",
          "height": 417
        },
        "id": "FRVTOirZUgdn",
        "outputId": "ac7c14a9-0fc5-46b9-9301-c284ece1983b"
      },
      "source": [
        "df_ipca"
      ],
      "execution_count": 28,
      "outputs": [
        {
          "output_type": "execute_result",
          "data": {
            "text/html": [
              "<div>\n",
              "<style scoped>\n",
              "    .dataframe tbody tr th:only-of-type {\n",
              "        vertical-align: middle;\n",
              "    }\n",
              "\n",
              "    .dataframe tbody tr th {\n",
              "        vertical-align: top;\n",
              "    }\n",
              "\n",
              "    .dataframe thead th {\n",
              "        text-align: right;\n",
              "    }\n",
              "</style>\n",
              "<table border=\"1\" class=\"dataframe\">\n",
              "  <thead>\n",
              "    <tr style=\"text-align: right;\">\n",
              "      <th></th>\n",
              "      <th>data_vencimento</th>\n",
              "      <th>data_base</th>\n",
              "      <th>taxa_compra_manha</th>\n",
              "      <th>taxa_venda_manha</th>\n",
              "      <th>pu_compra_manha</th>\n",
              "      <th>pu_venda_manha</th>\n",
              "      <th>pu_base_manha</th>\n",
              "    </tr>\n",
              "  </thead>\n",
              "  <tbody>\n",
              "    <tr>\n",
              "      <th>174</th>\n",
              "      <td>2045-05-15</td>\n",
              "      <td>2021-03-02</td>\n",
              "      <td>3.57</td>\n",
              "      <td>3.69</td>\n",
              "      <td>1476.76</td>\n",
              "      <td>1435.96</td>\n",
              "      <td>1435.62</td>\n",
              "    </tr>\n",
              "    <tr>\n",
              "      <th>175</th>\n",
              "      <td>2045-05-15</td>\n",
              "      <td>2021-04-02</td>\n",
              "      <td>3.51</td>\n",
              "      <td>3.63</td>\n",
              "      <td>1497.96</td>\n",
              "      <td>1456.56</td>\n",
              "      <td>1456.21</td>\n",
              "    </tr>\n",
              "    <tr>\n",
              "      <th>176</th>\n",
              "      <td>2045-05-15</td>\n",
              "      <td>2021-05-02</td>\n",
              "      <td>3.55</td>\n",
              "      <td>3.67</td>\n",
              "      <td>1484.66</td>\n",
              "      <td>1443.65</td>\n",
              "      <td>1443.02</td>\n",
              "    </tr>\n",
              "    <tr>\n",
              "      <th>177</th>\n",
              "      <td>2045-05-15</td>\n",
              "      <td>2021-08-02</td>\n",
              "      <td>3.55</td>\n",
              "      <td>3.67</td>\n",
              "      <td>1485.01</td>\n",
              "      <td>1444.00</td>\n",
              "      <td>1443.65</td>\n",
              "    </tr>\n",
              "    <tr>\n",
              "      <th>178</th>\n",
              "      <td>2045-05-15</td>\n",
              "      <td>2021-09-02</td>\n",
              "      <td>3.60</td>\n",
              "      <td>3.72</td>\n",
              "      <td>1467.51</td>\n",
              "      <td>1427.01</td>\n",
              "      <td>1426.68</td>\n",
              "    </tr>\n",
              "    <tr>\n",
              "      <th>...</th>\n",
              "      <td>...</td>\n",
              "      <td>...</td>\n",
              "      <td>...</td>\n",
              "      <td>...</td>\n",
              "      <td>...</td>\n",
              "      <td>...</td>\n",
              "      <td>...</td>\n",
              "    </tr>\n",
              "    <tr>\n",
              "      <th>116561</th>\n",
              "      <td>2026-08-15</td>\n",
              "      <td>2021-07-15</td>\n",
              "      <td>3.74</td>\n",
              "      <td>3.86</td>\n",
              "      <td>2966.73</td>\n",
              "      <td>2949.38</td>\n",
              "      <td>2948.19</td>\n",
              "    </tr>\n",
              "    <tr>\n",
              "      <th>116562</th>\n",
              "      <td>2026-08-15</td>\n",
              "      <td>2021-07-16</td>\n",
              "      <td>3.65</td>\n",
              "      <td>3.77</td>\n",
              "      <td>2982.49</td>\n",
              "      <td>2965.05</td>\n",
              "      <td>2962.38</td>\n",
              "    </tr>\n",
              "    <tr>\n",
              "      <th>116563</th>\n",
              "      <td>2026-08-15</td>\n",
              "      <td>2021-07-19</td>\n",
              "      <td>3.66</td>\n",
              "      <td>3.78</td>\n",
              "      <td>2982.21</td>\n",
              "      <td>2964.78</td>\n",
              "      <td>2963.60</td>\n",
              "    </tr>\n",
              "    <tr>\n",
              "      <th>116564</th>\n",
              "      <td>2026-08-15</td>\n",
              "      <td>2021-07-20</td>\n",
              "      <td>3.63</td>\n",
              "      <td>3.75</td>\n",
              "      <td>2987.76</td>\n",
              "      <td>2970.30</td>\n",
              "      <td>2969.12</td>\n",
              "    </tr>\n",
              "    <tr>\n",
              "      <th>116565</th>\n",
              "      <td>2026-08-15</td>\n",
              "      <td>2021-07-21</td>\n",
              "      <td>3.63</td>\n",
              "      <td>3.75</td>\n",
              "      <td>2988.93</td>\n",
              "      <td>2971.48</td>\n",
              "      <td>2970.30</td>\n",
              "    </tr>\n",
              "  </tbody>\n",
              "</table>\n",
              "<p>8294 rows × 7 columns</p>\n",
              "</div>"
            ],
            "text/plain": [
              "       data_vencimento  data_base  ...  pu_venda_manha  pu_base_manha\n",
              "174         2045-05-15 2021-03-02  ...         1435.96        1435.62\n",
              "175         2045-05-15 2021-04-02  ...         1456.56        1456.21\n",
              "176         2045-05-15 2021-05-02  ...         1443.65        1443.02\n",
              "177         2045-05-15 2021-08-02  ...         1444.00        1443.65\n",
              "178         2045-05-15 2021-09-02  ...         1427.01        1426.68\n",
              "...                ...        ...  ...             ...            ...\n",
              "116561      2026-08-15 2021-07-15  ...         2949.38        2948.19\n",
              "116562      2026-08-15 2021-07-16  ...         2965.05        2962.38\n",
              "116563      2026-08-15 2021-07-19  ...         2964.78        2963.60\n",
              "116564      2026-08-15 2021-07-20  ...         2970.30        2969.12\n",
              "116565      2026-08-15 2021-07-21  ...         2971.48        2970.30\n",
              "\n",
              "[8294 rows x 7 columns]"
            ]
          },
          "metadata": {
            "tags": []
          },
          "execution_count": 28
        }
      ]
    },
    {
      "cell_type": "code",
      "metadata": {
        "id": "CtcUCKw9nlun"
      },
      "source": [
        "df_ipca24 = df_ipca[df_ipca['data_vencimento']=='2024-08-15']\n",
        "df_ipca26 = df_ipca[df_ipca['data_vencimento']=='2026-08-15']\n",
        "df_ipca35 = df_ipca[df_ipca['data_vencimento']=='2035-05-15']\n",
        "df_ipca45 = df_ipca[df_ipca['data_vencimento']=='2045-05-15']"
      ],
      "execution_count": 29,
      "outputs": []
    },
    {
      "cell_type": "code",
      "metadata": {
        "colab": {
          "base_uri": "https://localhost:8080/",
          "height": 203
        },
        "id": "Z_LPIfhN198j",
        "outputId": "08e91f3e-b370-4f09-c56a-9667308f5d69"
      },
      "source": [
        "df_ipca24.head()"
      ],
      "execution_count": 30,
      "outputs": [
        {
          "output_type": "execute_result",
          "data": {
            "text/html": [
              "<div>\n",
              "<style scoped>\n",
              "    .dataframe tbody tr th:only-of-type {\n",
              "        vertical-align: middle;\n",
              "    }\n",
              "\n",
              "    .dataframe tbody tr th {\n",
              "        vertical-align: top;\n",
              "    }\n",
              "\n",
              "    .dataframe thead th {\n",
              "        text-align: right;\n",
              "    }\n",
              "</style>\n",
              "<table border=\"1\" class=\"dataframe\">\n",
              "  <thead>\n",
              "    <tr style=\"text-align: right;\">\n",
              "      <th></th>\n",
              "      <th>data_vencimento</th>\n",
              "      <th>data_base</th>\n",
              "      <th>taxa_compra_manha</th>\n",
              "      <th>taxa_venda_manha</th>\n",
              "      <th>pu_compra_manha</th>\n",
              "      <th>pu_venda_manha</th>\n",
              "      <th>pu_base_manha</th>\n",
              "    </tr>\n",
              "  </thead>\n",
              "  <tbody>\n",
              "    <tr>\n",
              "      <th>70458</th>\n",
              "      <td>2024-08-15</td>\n",
              "      <td>2014-02-07</td>\n",
              "      <td>6.02</td>\n",
              "      <td>6.10</td>\n",
              "      <td>1357.37</td>\n",
              "      <td>1347.09</td>\n",
              "      <td>1346.60</td>\n",
              "    </tr>\n",
              "    <tr>\n",
              "      <th>70459</th>\n",
              "      <td>2024-08-15</td>\n",
              "      <td>2014-03-07</td>\n",
              "      <td>6.08</td>\n",
              "      <td>6.16</td>\n",
              "      <td>1350.97</td>\n",
              "      <td>1340.75</td>\n",
              "      <td>1339.43</td>\n",
              "    </tr>\n",
              "    <tr>\n",
              "      <th>70460</th>\n",
              "      <td>2024-08-15</td>\n",
              "      <td>2014-04-07</td>\n",
              "      <td>6.05</td>\n",
              "      <td>6.13</td>\n",
              "      <td>1354.82</td>\n",
              "      <td>1344.57</td>\n",
              "      <td>1343.74</td>\n",
              "    </tr>\n",
              "    <tr>\n",
              "      <th>70461</th>\n",
              "      <td>2024-08-15</td>\n",
              "      <td>2014-07-07</td>\n",
              "      <td>6.04</td>\n",
              "      <td>6.12</td>\n",
              "      <td>1357.57</td>\n",
              "      <td>1347.31</td>\n",
              "      <td>1345.85</td>\n",
              "    </tr>\n",
              "    <tr>\n",
              "      <th>70462</th>\n",
              "      <td>2024-08-15</td>\n",
              "      <td>2014-08-07</td>\n",
              "      <td>6.02</td>\n",
              "      <td>6.10</td>\n",
              "      <td>1360.38</td>\n",
              "      <td>1350.09</td>\n",
              "      <td>1349.10</td>\n",
              "    </tr>\n",
              "  </tbody>\n",
              "</table>\n",
              "</div>"
            ],
            "text/plain": [
              "      data_vencimento  data_base  ...  pu_venda_manha  pu_base_manha\n",
              "70458      2024-08-15 2014-02-07  ...         1347.09        1346.60\n",
              "70459      2024-08-15 2014-03-07  ...         1340.75        1339.43\n",
              "70460      2024-08-15 2014-04-07  ...         1344.57        1343.74\n",
              "70461      2024-08-15 2014-07-07  ...         1347.31        1345.85\n",
              "70462      2024-08-15 2014-08-07  ...         1350.09        1349.10\n",
              "\n",
              "[5 rows x 7 columns]"
            ]
          },
          "metadata": {
            "tags": []
          },
          "execution_count": 30
        }
      ]
    },
    {
      "cell_type": "code",
      "metadata": {
        "colab": {
          "base_uri": "https://localhost:8080/",
          "height": 295
        },
        "id": "DWi4RSEw2CJ8",
        "outputId": "094be989-6949-42f8-ba21-17b6d90b3f64"
      },
      "source": [
        "df_ipca26.describe()"
      ],
      "execution_count": 31,
      "outputs": [
        {
          "output_type": "execute_result",
          "data": {
            "text/html": [
              "<div>\n",
              "<style scoped>\n",
              "    .dataframe tbody tr th:only-of-type {\n",
              "        vertical-align: middle;\n",
              "    }\n",
              "\n",
              "    .dataframe tbody tr th {\n",
              "        vertical-align: top;\n",
              "    }\n",
              "\n",
              "    .dataframe thead th {\n",
              "        text-align: right;\n",
              "    }\n",
              "</style>\n",
              "<table border=\"1\" class=\"dataframe\">\n",
              "  <thead>\n",
              "    <tr style=\"text-align: right;\">\n",
              "      <th></th>\n",
              "      <th>taxa_compra_manha</th>\n",
              "      <th>taxa_venda_manha</th>\n",
              "      <th>pu_compra_manha</th>\n",
              "      <th>pu_venda_manha</th>\n",
              "      <th>pu_base_manha</th>\n",
              "    </tr>\n",
              "  </thead>\n",
              "  <tbody>\n",
              "    <tr>\n",
              "      <th>count</th>\n",
              "      <td>358.000000</td>\n",
              "      <td>358.000000</td>\n",
              "      <td>358.000000</td>\n",
              "      <td>358.000000</td>\n",
              "      <td>358.000000</td>\n",
              "    </tr>\n",
              "    <tr>\n",
              "      <th>mean</th>\n",
              "      <td>2.998436</td>\n",
              "      <td>3.118436</td>\n",
              "      <td>2863.251201</td>\n",
              "      <td>2844.085084</td>\n",
              "      <td>2843.130503</td>\n",
              "    </tr>\n",
              "    <tr>\n",
              "      <th>std</th>\n",
              "      <td>0.526036</td>\n",
              "      <td>0.526036</td>\n",
              "      <td>105.799390</td>\n",
              "      <td>106.129646</td>\n",
              "      <td>105.750503</td>\n",
              "    </tr>\n",
              "    <tr>\n",
              "      <th>min</th>\n",
              "      <td>2.040000</td>\n",
              "      <td>2.160000</td>\n",
              "      <td>2514.730000</td>\n",
              "      <td>2496.380000</td>\n",
              "      <td>2495.850000</td>\n",
              "    </tr>\n",
              "    <tr>\n",
              "      <th>25%</th>\n",
              "      <td>2.580000</td>\n",
              "      <td>2.700000</td>\n",
              "      <td>2810.397500</td>\n",
              "      <td>2790.175000</td>\n",
              "      <td>2789.382500</td>\n",
              "    </tr>\n",
              "    <tr>\n",
              "      <th>50%</th>\n",
              "      <td>2.880000</td>\n",
              "      <td>3.000000</td>\n",
              "      <td>2884.570000</td>\n",
              "      <td>2864.480000</td>\n",
              "      <td>2863.855000</td>\n",
              "    </tr>\n",
              "    <tr>\n",
              "      <th>75%</th>\n",
              "      <td>3.490000</td>\n",
              "      <td>3.610000</td>\n",
              "      <td>2947.060000</td>\n",
              "      <td>2928.762500</td>\n",
              "      <td>2927.522500</td>\n",
              "    </tr>\n",
              "    <tr>\n",
              "      <th>max</th>\n",
              "      <td>4.410000</td>\n",
              "      <td>4.530000</td>\n",
              "      <td>3014.330000</td>\n",
              "      <td>2994.600000</td>\n",
              "      <td>2993.150000</td>\n",
              "    </tr>\n",
              "  </tbody>\n",
              "</table>\n",
              "</div>"
            ],
            "text/plain": [
              "       taxa_compra_manha  taxa_venda_manha  ...  pu_venda_manha  pu_base_manha\n",
              "count         358.000000        358.000000  ...      358.000000     358.000000\n",
              "mean            2.998436          3.118436  ...     2844.085084    2843.130503\n",
              "std             0.526036          0.526036  ...      106.129646     105.750503\n",
              "min             2.040000          2.160000  ...     2496.380000    2495.850000\n",
              "25%             2.580000          2.700000  ...     2790.175000    2789.382500\n",
              "50%             2.880000          3.000000  ...     2864.480000    2863.855000\n",
              "75%             3.490000          3.610000  ...     2928.762500    2927.522500\n",
              "max             4.410000          4.530000  ...     2994.600000    2993.150000\n",
              "\n",
              "[8 rows x 5 columns]"
            ]
          },
          "metadata": {
            "tags": []
          },
          "execution_count": 31
        }
      ]
    },
    {
      "cell_type": "code",
      "metadata": {
        "colab": {
          "base_uri": "https://localhost:8080/"
        },
        "id": "Yax5PXnw2FQn",
        "outputId": "caa5ea97-e9e9-47a6-a3c8-740f2e9a892e"
      },
      "source": [
        "df_pre.data_vencimento.unique()"
      ],
      "execution_count": 32,
      "outputs": [
        {
          "output_type": "execute_result",
          "data": {
            "text/plain": [
              "array(['2022-01-01T00:00:00.000000000', '2023-01-01T00:00:00.000000000',\n",
              "       '2026-01-01T00:00:00.000000000', '2024-01-07T00:00:00.000000000',\n",
              "       '2025-01-01T00:00:00.000000000'], dtype='datetime64[ns]')"
            ]
          },
          "metadata": {
            "tags": []
          },
          "execution_count": 32
        }
      ]
    },
    {
      "cell_type": "code",
      "metadata": {
        "id": "1O1O7mpd3woo"
      },
      "source": [
        "df_pre22 = df_pre[df_pre['data_vencimento'] == '2022-01-01']\n",
        "df_pre23 = df_pre[df_pre['data_vencimento'] == '2023-01-01']\n",
        "df_pre24 = df_pre[df_pre['data_vencimento'] == '2024-01-07']\n",
        "df_pre25 = df_pre[df_pre['data_vencimento'] == '2025-01-01']\n",
        "df_pre26 = df_pre[df_pre['data_vencimento'] == '2026-01-01']"
      ],
      "execution_count": 33,
      "outputs": []
    },
    {
      "cell_type": "code",
      "metadata": {
        "colab": {
          "base_uri": "https://localhost:8080/",
          "height": 295
        },
        "id": "yOjxYJY44nFo",
        "outputId": "adb555da-d914-4cb2-b4ae-515118f9d4da"
      },
      "source": [
        "df_pre26.describe()"
      ],
      "execution_count": 34,
      "outputs": [
        {
          "output_type": "execute_result",
          "data": {
            "text/html": [
              "<div>\n",
              "<style scoped>\n",
              "    .dataframe tbody tr th:only-of-type {\n",
              "        vertical-align: middle;\n",
              "    }\n",
              "\n",
              "    .dataframe tbody tr th {\n",
              "        vertical-align: top;\n",
              "    }\n",
              "\n",
              "    .dataframe thead th {\n",
              "        text-align: right;\n",
              "    }\n",
              "</style>\n",
              "<table border=\"1\" class=\"dataframe\">\n",
              "  <thead>\n",
              "    <tr style=\"text-align: right;\">\n",
              "      <th></th>\n",
              "      <th>taxa_compra_manha</th>\n",
              "      <th>taxa_venda_manha</th>\n",
              "      <th>pu_compra_manha</th>\n",
              "      <th>pu_venda_manha</th>\n",
              "      <th>pu_base_manha</th>\n",
              "    </tr>\n",
              "  </thead>\n",
              "  <tbody>\n",
              "    <tr>\n",
              "      <th>count</th>\n",
              "      <td>358.000000</td>\n",
              "      <td>358.000000</td>\n",
              "      <td>358.000000</td>\n",
              "      <td>358.000000</td>\n",
              "      <td>358.000000</td>\n",
              "    </tr>\n",
              "    <tr>\n",
              "      <th>mean</th>\n",
              "      <td>7.310866</td>\n",
              "      <td>7.430866</td>\n",
              "      <td>696.777626</td>\n",
              "      <td>692.765251</td>\n",
              "      <td>692.566480</td>\n",
              "    </tr>\n",
              "    <tr>\n",
              "      <th>std</th>\n",
              "      <td>0.900522</td>\n",
              "      <td>0.900522</td>\n",
              "      <td>21.008727</td>\n",
              "      <td>20.858966</td>\n",
              "      <td>20.867474</td>\n",
              "    </tr>\n",
              "    <tr>\n",
              "      <th>min</th>\n",
              "      <td>5.810000</td>\n",
              "      <td>5.930000</td>\n",
              "      <td>613.180000</td>\n",
              "      <td>609.290000</td>\n",
              "      <td>609.080000</td>\n",
              "    </tr>\n",
              "    <tr>\n",
              "      <th>25%</th>\n",
              "      <td>6.530000</td>\n",
              "      <td>6.650000</td>\n",
              "      <td>685.972500</td>\n",
              "      <td>682.370000</td>\n",
              "      <td>682.155000</td>\n",
              "    </tr>\n",
              "    <tr>\n",
              "      <th>50%</th>\n",
              "      <td>7.190000</td>\n",
              "      <td>7.310000</td>\n",
              "      <td>695.615000</td>\n",
              "      <td>691.595000</td>\n",
              "      <td>691.410000</td>\n",
              "    </tr>\n",
              "    <tr>\n",
              "      <th>75%</th>\n",
              "      <td>8.167500</td>\n",
              "      <td>8.287500</td>\n",
              "      <td>712.710000</td>\n",
              "      <td>708.470000</td>\n",
              "      <td>708.297500</td>\n",
              "    </tr>\n",
              "    <tr>\n",
              "      <th>max</th>\n",
              "      <td>8.980000</td>\n",
              "      <td>9.100000</td>\n",
              "      <td>738.340000</td>\n",
              "      <td>734.200000</td>\n",
              "      <td>734.020000</td>\n",
              "    </tr>\n",
              "  </tbody>\n",
              "</table>\n",
              "</div>"
            ],
            "text/plain": [
              "       taxa_compra_manha  taxa_venda_manha  ...  pu_venda_manha  pu_base_manha\n",
              "count         358.000000        358.000000  ...      358.000000     358.000000\n",
              "mean            7.310866          7.430866  ...      692.765251     692.566480\n",
              "std             0.900522          0.900522  ...       20.858966      20.867474\n",
              "min             5.810000          5.930000  ...      609.290000     609.080000\n",
              "25%             6.530000          6.650000  ...      682.370000     682.155000\n",
              "50%             7.190000          7.310000  ...      691.595000     691.410000\n",
              "75%             8.167500          8.287500  ...      708.470000     708.297500\n",
              "max             8.980000          9.100000  ...      734.200000     734.020000\n",
              "\n",
              "[8 rows x 5 columns]"
            ]
          },
          "metadata": {
            "tags": []
          },
          "execution_count": 34
        }
      ]
    },
    {
      "cell_type": "code",
      "metadata": {
        "colab": {
          "base_uri": "https://localhost:8080/",
          "height": 203
        },
        "id": "7vFRhFOD4pse",
        "outputId": "44cef37a-f867-452b-8982-b9ea93ee8534"
      },
      "source": [
        "df_pre24.head()"
      ],
      "execution_count": 35,
      "outputs": [
        {
          "output_type": "execute_result",
          "data": {
            "text/html": [
              "<div>\n",
              "<style scoped>\n",
              "    .dataframe tbody tr th:only-of-type {\n",
              "        vertical-align: middle;\n",
              "    }\n",
              "\n",
              "    .dataframe tbody tr th {\n",
              "        vertical-align: top;\n",
              "    }\n",
              "\n",
              "    .dataframe thead th {\n",
              "        text-align: right;\n",
              "    }\n",
              "</style>\n",
              "<table border=\"1\" class=\"dataframe\">\n",
              "  <thead>\n",
              "    <tr style=\"text-align: right;\">\n",
              "      <th></th>\n",
              "      <th>data_vencimento</th>\n",
              "      <th>data_base</th>\n",
              "      <th>taxa_compra_manha</th>\n",
              "      <th>taxa_venda_manha</th>\n",
              "      <th>pu_compra_manha</th>\n",
              "      <th>pu_venda_manha</th>\n",
              "      <th>pu_base_manha</th>\n",
              "    </tr>\n",
              "  </thead>\n",
              "  <tbody>\n",
              "    <tr>\n",
              "      <th>113765</th>\n",
              "      <td>2024-01-07</td>\n",
              "      <td>2021-03-17</td>\n",
              "      <td>7.53</td>\n",
              "      <td>7.65</td>\n",
              "      <td>788.68</td>\n",
              "      <td>785.81</td>\n",
              "      <td>785.58</td>\n",
              "    </tr>\n",
              "    <tr>\n",
              "      <th>113766</th>\n",
              "      <td>2024-01-07</td>\n",
              "      <td>2021-03-18</td>\n",
              "      <td>7.56</td>\n",
              "      <td>7.68</td>\n",
              "      <td>788.19</td>\n",
              "      <td>785.32</td>\n",
              "      <td>785.09</td>\n",
              "    </tr>\n",
              "    <tr>\n",
              "      <th>113767</th>\n",
              "      <td>2024-01-07</td>\n",
              "      <td>2021-03-19</td>\n",
              "      <td>7.54</td>\n",
              "      <td>7.66</td>\n",
              "      <td>788.89</td>\n",
              "      <td>786.03</td>\n",
              "      <td>785.80</td>\n",
              "    </tr>\n",
              "    <tr>\n",
              "      <th>113768</th>\n",
              "      <td>2024-01-07</td>\n",
              "      <td>2021-03-22</td>\n",
              "      <td>7.79</td>\n",
              "      <td>7.91</td>\n",
              "      <td>783.17</td>\n",
              "      <td>780.34</td>\n",
              "      <td>780.11</td>\n",
              "    </tr>\n",
              "    <tr>\n",
              "      <th>113769</th>\n",
              "      <td>2024-01-07</td>\n",
              "      <td>2021-03-23</td>\n",
              "      <td>7.90</td>\n",
              "      <td>8.02</td>\n",
              "      <td>780.81</td>\n",
              "      <td>777.99</td>\n",
              "      <td>777.75</td>\n",
              "    </tr>\n",
              "  </tbody>\n",
              "</table>\n",
              "</div>"
            ],
            "text/plain": [
              "       data_vencimento  data_base  ...  pu_venda_manha  pu_base_manha\n",
              "113765      2024-01-07 2021-03-17  ...          785.81         785.58\n",
              "113766      2024-01-07 2021-03-18  ...          785.32         785.09\n",
              "113767      2024-01-07 2021-03-19  ...          786.03         785.80\n",
              "113768      2024-01-07 2021-03-22  ...          780.34         780.11\n",
              "113769      2024-01-07 2021-03-23  ...          777.99         777.75\n",
              "\n",
              "[5 rows x 7 columns]"
            ]
          },
          "metadata": {
            "tags": []
          },
          "execution_count": 35
        }
      ]
    },
    {
      "cell_type": "code",
      "metadata": {
        "colab": {
          "base_uri": "https://localhost:8080/",
          "height": 417
        },
        "id": "CjVOQx3H41ts",
        "outputId": "94bafb2f-e5e3-47ee-c455-0ac40d3276a5"
      },
      "source": [
        "df_pre26"
      ],
      "execution_count": 36,
      "outputs": [
        {
          "output_type": "execute_result",
          "data": {
            "text/html": [
              "<div>\n",
              "<style scoped>\n",
              "    .dataframe tbody tr th:only-of-type {\n",
              "        vertical-align: middle;\n",
              "    }\n",
              "\n",
              "    .dataframe tbody tr th {\n",
              "        vertical-align: top;\n",
              "    }\n",
              "\n",
              "    .dataframe thead th {\n",
              "        text-align: right;\n",
              "    }\n",
              "</style>\n",
              "<table border=\"1\" class=\"dataframe\">\n",
              "  <thead>\n",
              "    <tr style=\"text-align: right;\">\n",
              "      <th></th>\n",
              "      <th>data_vencimento</th>\n",
              "      <th>data_base</th>\n",
              "      <th>taxa_compra_manha</th>\n",
              "      <th>taxa_venda_manha</th>\n",
              "      <th>pu_compra_manha</th>\n",
              "      <th>pu_venda_manha</th>\n",
              "      <th>pu_base_manha</th>\n",
              "    </tr>\n",
              "  </thead>\n",
              "  <tbody>\n",
              "    <tr>\n",
              "      <th>113654</th>\n",
              "      <td>2026-01-01</td>\n",
              "      <td>2020-07-05</td>\n",
              "      <td>6.92</td>\n",
              "      <td>7.04</td>\n",
              "      <td>685.34</td>\n",
              "      <td>681.01</td>\n",
              "      <td>680.83</td>\n",
              "    </tr>\n",
              "    <tr>\n",
              "      <th>113655</th>\n",
              "      <td>2026-01-01</td>\n",
              "      <td>2020-08-05</td>\n",
              "      <td>7.09</td>\n",
              "      <td>7.21</td>\n",
              "      <td>679.40</td>\n",
              "      <td>675.12</td>\n",
              "      <td>674.94</td>\n",
              "    </tr>\n",
              "    <tr>\n",
              "      <th>113656</th>\n",
              "      <td>2026-01-01</td>\n",
              "      <td>2020-11-05</td>\n",
              "      <td>7.14</td>\n",
              "      <td>7.26</td>\n",
              "      <td>677.80</td>\n",
              "      <td>673.54</td>\n",
              "      <td>673.35</td>\n",
              "    </tr>\n",
              "    <tr>\n",
              "      <th>113657</th>\n",
              "      <td>2026-01-01</td>\n",
              "      <td>2020-12-05</td>\n",
              "      <td>6.93</td>\n",
              "      <td>7.05</td>\n",
              "      <td>685.52</td>\n",
              "      <td>681.21</td>\n",
              "      <td>681.02</td>\n",
              "    </tr>\n",
              "    <tr>\n",
              "      <th>113658</th>\n",
              "      <td>2026-01-01</td>\n",
              "      <td>2020-05-13</td>\n",
              "      <td>7.23</td>\n",
              "      <td>7.35</td>\n",
              "      <td>674.97</td>\n",
              "      <td>670.74</td>\n",
              "      <td>670.55</td>\n",
              "    </tr>\n",
              "    <tr>\n",
              "      <th>...</th>\n",
              "      <td>...</td>\n",
              "      <td>...</td>\n",
              "      <td>...</td>\n",
              "      <td>...</td>\n",
              "      <td>...</td>\n",
              "      <td>...</td>\n",
              "      <td>...</td>\n",
              "    </tr>\n",
              "    <tr>\n",
              "      <th>116795</th>\n",
              "      <td>2026-01-01</td>\n",
              "      <td>2020-04-29</td>\n",
              "      <td>7.15</td>\n",
              "      <td>7.27</td>\n",
              "      <td>676.15</td>\n",
              "      <td>671.87</td>\n",
              "      <td>671.68</td>\n",
              "    </tr>\n",
              "    <tr>\n",
              "      <th>116796</th>\n",
              "      <td>2026-01-01</td>\n",
              "      <td>2020-04-30</td>\n",
              "      <td>7.09</td>\n",
              "      <td>7.21</td>\n",
              "      <td>678.48</td>\n",
              "      <td>674.19</td>\n",
              "      <td>674.01</td>\n",
              "    </tr>\n",
              "    <tr>\n",
              "      <th>116797</th>\n",
              "      <td>2026-01-01</td>\n",
              "      <td>2020-04-05</td>\n",
              "      <td>7.24</td>\n",
              "      <td>7.36</td>\n",
              "      <td>673.31</td>\n",
              "      <td>669.06</td>\n",
              "      <td>668.87</td>\n",
              "    </tr>\n",
              "    <tr>\n",
              "      <th>116798</th>\n",
              "      <td>2026-01-01</td>\n",
              "      <td>2020-05-05</td>\n",
              "      <td>6.91</td>\n",
              "      <td>7.03</td>\n",
              "      <td>685.34</td>\n",
              "      <td>681.00</td>\n",
              "      <td>680.82</td>\n",
              "    </tr>\n",
              "    <tr>\n",
              "      <th>116799</th>\n",
              "      <td>2026-01-01</td>\n",
              "      <td>2020-06-05</td>\n",
              "      <td>7.17</td>\n",
              "      <td>7.29</td>\n",
              "      <td>676.18</td>\n",
              "      <td>671.91</td>\n",
              "      <td>671.72</td>\n",
              "    </tr>\n",
              "  </tbody>\n",
              "</table>\n",
              "<p>358 rows × 7 columns</p>\n",
              "</div>"
            ],
            "text/plain": [
              "       data_vencimento  data_base  ...  pu_venda_manha  pu_base_manha\n",
              "113654      2026-01-01 2020-07-05  ...          681.01         680.83\n",
              "113655      2026-01-01 2020-08-05  ...          675.12         674.94\n",
              "113656      2026-01-01 2020-11-05  ...          673.54         673.35\n",
              "113657      2026-01-01 2020-12-05  ...          681.21         681.02\n",
              "113658      2026-01-01 2020-05-13  ...          670.74         670.55\n",
              "...                ...        ...  ...             ...            ...\n",
              "116795      2026-01-01 2020-04-29  ...          671.87         671.68\n",
              "116796      2026-01-01 2020-04-30  ...          674.19         674.01\n",
              "116797      2026-01-01 2020-04-05  ...          669.06         668.87\n",
              "116798      2026-01-01 2020-05-05  ...          681.00         680.82\n",
              "116799      2026-01-01 2020-06-05  ...          671.91         671.72\n",
              "\n",
              "[358 rows x 7 columns]"
            ]
          },
          "metadata": {
            "tags": []
          },
          "execution_count": 36
        }
      ]
    },
    {
      "cell_type": "code",
      "metadata": {
        "colab": {
          "base_uri": "https://localhost:8080/",
          "height": 295
        },
        "id": "OhT1u2JB_qhc",
        "outputId": "c3d22210-d5eb-432e-a589-42d8dc3bf0e3"
      },
      "source": [
        "df_pre24.describe()"
      ],
      "execution_count": 37,
      "outputs": [
        {
          "output_type": "execute_result",
          "data": {
            "text/html": [
              "<div>\n",
              "<style scoped>\n",
              "    .dataframe tbody tr th:only-of-type {\n",
              "        vertical-align: middle;\n",
              "    }\n",
              "\n",
              "    .dataframe tbody tr th {\n",
              "        vertical-align: top;\n",
              "    }\n",
              "\n",
              "    .dataframe thead th {\n",
              "        text-align: right;\n",
              "    }\n",
              "</style>\n",
              "<table border=\"1\" class=\"dataframe\">\n",
              "  <thead>\n",
              "    <tr style=\"text-align: right;\">\n",
              "      <th></th>\n",
              "      <th>taxa_compra_manha</th>\n",
              "      <th>taxa_venda_manha</th>\n",
              "      <th>pu_compra_manha</th>\n",
              "      <th>pu_venda_manha</th>\n",
              "      <th>pu_base_manha</th>\n",
              "    </tr>\n",
              "  </thead>\n",
              "  <tbody>\n",
              "    <tr>\n",
              "      <th>count</th>\n",
              "      <td>112.000000</td>\n",
              "      <td>112.000000</td>\n",
              "      <td>112.000000</td>\n",
              "      <td>112.000000</td>\n",
              "      <td>112.000000</td>\n",
              "    </tr>\n",
              "    <tr>\n",
              "      <th>mean</th>\n",
              "      <td>7.871607</td>\n",
              "      <td>7.991607</td>\n",
              "      <td>788.178750</td>\n",
              "      <td>785.423482</td>\n",
              "      <td>785.181786</td>\n",
              "    </tr>\n",
              "    <tr>\n",
              "      <th>std</th>\n",
              "      <td>0.508342</td>\n",
              "      <td>0.508342</td>\n",
              "      <td>8.401761</td>\n",
              "      <td>8.345638</td>\n",
              "      <td>8.353013</td>\n",
              "    </tr>\n",
              "    <tr>\n",
              "      <th>min</th>\n",
              "      <td>6.410000</td>\n",
              "      <td>6.530000</td>\n",
              "      <td>768.490000</td>\n",
              "      <td>765.740000</td>\n",
              "      <td>765.490000</td>\n",
              "    </tr>\n",
              "    <tr>\n",
              "      <th>25%</th>\n",
              "      <td>7.667500</td>\n",
              "      <td>7.787500</td>\n",
              "      <td>782.722500</td>\n",
              "      <td>780.030000</td>\n",
              "      <td>779.780000</td>\n",
              "    </tr>\n",
              "    <tr>\n",
              "      <th>50%</th>\n",
              "      <td>8.065000</td>\n",
              "      <td>8.185000</td>\n",
              "      <td>788.725000</td>\n",
              "      <td>786.010000</td>\n",
              "      <td>785.765000</td>\n",
              "    </tr>\n",
              "    <tr>\n",
              "      <th>75%</th>\n",
              "      <td>8.230000</td>\n",
              "      <td>8.350000</td>\n",
              "      <td>791.617500</td>\n",
              "      <td>789.017500</td>\n",
              "      <td>788.767500</td>\n",
              "    </tr>\n",
              "    <tr>\n",
              "      <th>max</th>\n",
              "      <td>8.450000</td>\n",
              "      <td>8.570000</td>\n",
              "      <td>811.130000</td>\n",
              "      <td>808.060000</td>\n",
              "      <td>807.860000</td>\n",
              "    </tr>\n",
              "  </tbody>\n",
              "</table>\n",
              "</div>"
            ],
            "text/plain": [
              "       taxa_compra_manha  taxa_venda_manha  ...  pu_venda_manha  pu_base_manha\n",
              "count         112.000000        112.000000  ...      112.000000     112.000000\n",
              "mean            7.871607          7.991607  ...      785.423482     785.181786\n",
              "std             0.508342          0.508342  ...        8.345638       8.353013\n",
              "min             6.410000          6.530000  ...      765.740000     765.490000\n",
              "25%             7.667500          7.787500  ...      780.030000     779.780000\n",
              "50%             8.065000          8.185000  ...      786.010000     785.765000\n",
              "75%             8.230000          8.350000  ...      789.017500     788.767500\n",
              "max             8.450000          8.570000  ...      808.060000     807.860000\n",
              "\n",
              "[8 rows x 5 columns]"
            ]
          },
          "metadata": {
            "tags": []
          },
          "execution_count": 37
        }
      ]
    },
    {
      "cell_type": "code",
      "metadata": {
        "colab": {
          "base_uri": "https://localhost:8080/"
        },
        "id": "SgYfHTxIHhmY",
        "outputId": "e53e3374-9eb2-4d2a-ca0c-0b2496be7c16"
      },
      "source": [
        "df_selic.data_vencimento.unique()"
      ],
      "execution_count": 38,
      "outputs": [
        {
          "output_type": "execute_result",
          "data": {
            "text/plain": [
              "array(['2023-01-03T00:00:00.000000000', '2027-01-03T00:00:00.000000000',\n",
              "       '2025-01-03T00:00:00.000000000', '2024-01-09T00:00:00.000000000'],\n",
              "      dtype='datetime64[ns]')"
            ]
          },
          "metadata": {
            "tags": []
          },
          "execution_count": 38
        }
      ]
    },
    {
      "cell_type": "code",
      "metadata": {
        "id": "9t4boDfHMeMw"
      },
      "source": [
        "df_selic23 = df_selic[df_selic['data_vencimento'] == '2023-01-03']\n",
        "df_selic24 = df_selic[df_selic['data_vencimento'] == '2024-01-09']\n",
        "df_selic25 = df_selic[df_selic['data_vencimento'] == '2025-01-03']\n",
        "df_selic27 = df_selic[df_selic['data_vencimento'] == '2027-01-03']\n"
      ],
      "execution_count": 39,
      "outputs": []
    },
    {
      "cell_type": "code",
      "metadata": {
        "colab": {
          "base_uri": "https://localhost:8080/",
          "height": 295
        },
        "id": "r8CyIMPQcsfy",
        "outputId": "56a81837-e311-43e5-ec51-b74759cb36e2"
      },
      "source": [
        "df_selic24.describe()"
      ],
      "execution_count": 40,
      "outputs": [
        {
          "output_type": "execute_result",
          "data": {
            "text/html": [
              "<div>\n",
              "<style scoped>\n",
              "    .dataframe tbody tr th:only-of-type {\n",
              "        vertical-align: middle;\n",
              "    }\n",
              "\n",
              "    .dataframe tbody tr th {\n",
              "        vertical-align: top;\n",
              "    }\n",
              "\n",
              "    .dataframe thead th {\n",
              "        text-align: right;\n",
              "    }\n",
              "</style>\n",
              "<table border=\"1\" class=\"dataframe\">\n",
              "  <thead>\n",
              "    <tr style=\"text-align: right;\">\n",
              "      <th></th>\n",
              "      <th>taxa_compra_manha</th>\n",
              "      <th>taxa_venda_manha</th>\n",
              "      <th>pu_compra_manha</th>\n",
              "      <th>pu_venda_manha</th>\n",
              "      <th>pu_base_manha</th>\n",
              "    </tr>\n",
              "  </thead>\n",
              "  <tbody>\n",
              "    <tr>\n",
              "      <th>count</th>\n",
              "      <td>112.000000</td>\n",
              "      <td>112.000000</td>\n",
              "      <td>112.000000</td>\n",
              "      <td>112.000000</td>\n",
              "      <td>112.000000</td>\n",
              "    </tr>\n",
              "    <tr>\n",
              "      <th>mean</th>\n",
              "      <td>0.214107</td>\n",
              "      <td>0.224107</td>\n",
              "      <td>10765.546429</td>\n",
              "      <td>10761.973304</td>\n",
              "      <td>10760.561339</td>\n",
              "    </tr>\n",
              "    <tr>\n",
              "      <th>std</th>\n",
              "      <td>0.035043</td>\n",
              "      <td>0.035043</td>\n",
              "      <td>36.574304</td>\n",
              "      <td>36.694376</td>\n",
              "      <td>36.345591</td>\n",
              "    </tr>\n",
              "    <tr>\n",
              "      <th>min</th>\n",
              "      <td>0.150000</td>\n",
              "      <td>0.160000</td>\n",
              "      <td>10725.520000</td>\n",
              "      <td>10721.730000</td>\n",
              "      <td>10720.810000</td>\n",
              "    </tr>\n",
              "    <tr>\n",
              "      <th>25%</th>\n",
              "      <td>0.180000</td>\n",
              "      <td>0.190000</td>\n",
              "      <td>10737.285000</td>\n",
              "      <td>10733.590000</td>\n",
              "      <td>10732.437500</td>\n",
              "    </tr>\n",
              "    <tr>\n",
              "      <th>50%</th>\n",
              "      <td>0.230000</td>\n",
              "      <td>0.240000</td>\n",
              "      <td>10746.720000</td>\n",
              "      <td>10743.080000</td>\n",
              "      <td>10741.835000</td>\n",
              "    </tr>\n",
              "    <tr>\n",
              "      <th>75%</th>\n",
              "      <td>0.240000</td>\n",
              "      <td>0.250000</td>\n",
              "      <td>10793.162500</td>\n",
              "      <td>10789.695000</td>\n",
              "      <td>10788.122500</td>\n",
              "    </tr>\n",
              "    <tr>\n",
              "      <th>max</th>\n",
              "      <td>0.270000</td>\n",
              "      <td>0.280000</td>\n",
              "      <td>10852.750000</td>\n",
              "      <td>10849.390000</td>\n",
              "      <td>10847.500000</td>\n",
              "    </tr>\n",
              "  </tbody>\n",
              "</table>\n",
              "</div>"
            ],
            "text/plain": [
              "       taxa_compra_manha  taxa_venda_manha  ...  pu_venda_manha  pu_base_manha\n",
              "count         112.000000        112.000000  ...      112.000000     112.000000\n",
              "mean            0.214107          0.224107  ...    10761.973304   10760.561339\n",
              "std             0.035043          0.035043  ...       36.694376      36.345591\n",
              "min             0.150000          0.160000  ...    10721.730000   10720.810000\n",
              "25%             0.180000          0.190000  ...    10733.590000   10732.437500\n",
              "50%             0.230000          0.240000  ...    10743.080000   10741.835000\n",
              "75%             0.240000          0.250000  ...    10789.695000   10788.122500\n",
              "max             0.270000          0.280000  ...    10849.390000   10847.500000\n",
              "\n",
              "[8 rows x 5 columns]"
            ]
          },
          "metadata": {
            "tags": []
          },
          "execution_count": 40
        }
      ]
    },
    {
      "cell_type": "code",
      "metadata": {
        "colab": {
          "base_uri": "https://localhost:8080/"
        },
        "id": "GZhz0eUYcv0u",
        "outputId": "74ad3d2e-0cdc-4490-bb5f-3e94951b7433"
      },
      "source": [
        "df_ipcajuros.data_vencimento.unique()"
      ],
      "execution_count": 41,
      "outputs": [
        {
          "output_type": "execute_result",
          "data": {
            "text/plain": [
              "array(['2024-08-15T00:00:00.000000000', '2035-05-15T00:00:00.000000000',\n",
              "       '2030-08-15T00:00:00.000000000', '2040-08-15T00:00:00.000000000',\n",
              "       '2045-05-15T00:00:00.000000000', '2050-08-15T00:00:00.000000000',\n",
              "       '2026-08-15T00:00:00.000000000', '2055-05-15T00:00:00.000000000'],\n",
              "      dtype='datetime64[ns]')"
            ]
          },
          "metadata": {
            "tags": []
          },
          "execution_count": 41
        }
      ]
    },
    {
      "cell_type": "code",
      "metadata": {
        "id": "qI3bpFBDOhVv"
      },
      "source": [
        "df_ipcajuros24 = df_ipcajuros[df_ipcajuros['data_vencimento'] == '2024-08-15']\n",
        "df_ipcajuros26 = df_ipcajuros[df_ipcajuros['data_vencimento'] == '2026-08-15']\n",
        "df_ipcajuros30 = df_ipcajuros[df_ipcajuros['data_vencimento'] == '2030-08-15']\n",
        "df_ipcajuros35 = df_ipcajuros[df_ipcajuros['data_vencimento'] == '2035-08-15']\n",
        "df_ipcajuros40 = df_ipcajuros[df_ipcajuros['data_vencimento'] == '2040-08-15']\n",
        "df_ipcajuros45 = df_ipcajuros[df_ipcajuros['data_vencimento'] == '2045-05-15']\n",
        "df_ipcajuros50 = df_ipcajuros[df_ipcajuros['data_vencimento'] == '2050-08-15']\n",
        "df_ipcajuros55 = df_ipcajuros[df_ipcajuros['data_vencimento'] == '2055-05-15']\n"
      ],
      "execution_count": 42,
      "outputs": []
    },
    {
      "cell_type": "code",
      "metadata": {
        "colab": {
          "base_uri": "https://localhost:8080/",
          "height": 357
        },
        "id": "j3B-pd7MQX4S",
        "outputId": "0ddbcbd7-9943-4b01-c20b-9dc47e0839ef"
      },
      "source": [
        "df_ipcajuros26.head(10)"
      ],
      "execution_count": 46,
      "outputs": [
        {
          "output_type": "execute_result",
          "data": {
            "text/html": [
              "<div>\n",
              "<style scoped>\n",
              "    .dataframe tbody tr th:only-of-type {\n",
              "        vertical-align: middle;\n",
              "    }\n",
              "\n",
              "    .dataframe tbody tr th {\n",
              "        vertical-align: top;\n",
              "    }\n",
              "\n",
              "    .dataframe thead th {\n",
              "        text-align: right;\n",
              "    }\n",
              "</style>\n",
              "<table border=\"1\" class=\"dataframe\">\n",
              "  <thead>\n",
              "    <tr style=\"text-align: right;\">\n",
              "      <th></th>\n",
              "      <th>data_vencimento</th>\n",
              "      <th>data_base</th>\n",
              "      <th>taxa_compra_manha</th>\n",
              "      <th>taxa_venda_manha</th>\n",
              "      <th>pu_compra_manha</th>\n",
              "      <th>pu_venda_manha</th>\n",
              "      <th>pu_base_manha</th>\n",
              "    </tr>\n",
              "  </thead>\n",
              "  <tbody>\n",
              "    <tr>\n",
              "      <th>94452</th>\n",
              "      <td>2026-08-15</td>\n",
              "      <td>2020-04-08</td>\n",
              "      <td>1.95</td>\n",
              "      <td>2.07</td>\n",
              "      <td>4143.38</td>\n",
              "      <td>4118.46</td>\n",
              "      <td>4117.64</td>\n",
              "    </tr>\n",
              "    <tr>\n",
              "      <th>94453</th>\n",
              "      <td>2026-08-15</td>\n",
              "      <td>2020-05-08</td>\n",
              "      <td>1.91</td>\n",
              "      <td>2.03</td>\n",
              "      <td>4152.54</td>\n",
              "      <td>4127.57</td>\n",
              "      <td>4126.75</td>\n",
              "    </tr>\n",
              "    <tr>\n",
              "      <th>94454</th>\n",
              "      <td>2026-08-15</td>\n",
              "      <td>2020-06-08</td>\n",
              "      <td>1.97</td>\n",
              "      <td>2.09</td>\n",
              "      <td>4140.84</td>\n",
              "      <td>4115.99</td>\n",
              "      <td>4115.16</td>\n",
              "    </tr>\n",
              "    <tr>\n",
              "      <th>94455</th>\n",
              "      <td>2026-08-15</td>\n",
              "      <td>2020-07-08</td>\n",
              "      <td>1.90</td>\n",
              "      <td>2.02</td>\n",
              "      <td>4156.88</td>\n",
              "      <td>4131.92</td>\n",
              "      <td>4130.16</td>\n",
              "    </tr>\n",
              "    <tr>\n",
              "      <th>94456</th>\n",
              "      <td>2026-08-15</td>\n",
              "      <td>2020-10-08</td>\n",
              "      <td>1.94</td>\n",
              "      <td>2.06</td>\n",
              "      <td>4149.34</td>\n",
              "      <td>4124.46</td>\n",
              "      <td>4123.64</td>\n",
              "    </tr>\n",
              "    <tr>\n",
              "      <th>94457</th>\n",
              "      <td>2026-08-15</td>\n",
              "      <td>2020-11-08</td>\n",
              "      <td>1.99</td>\n",
              "      <td>2.11</td>\n",
              "      <td>4139.75</td>\n",
              "      <td>4114.97</td>\n",
              "      <td>4114.15</td>\n",
              "    </tr>\n",
              "    <tr>\n",
              "      <th>94458</th>\n",
              "      <td>2026-08-15</td>\n",
              "      <td>2020-12-08</td>\n",
              "      <td>2.05</td>\n",
              "      <td>2.17</td>\n",
              "      <td>4128.15</td>\n",
              "      <td>4103.47</td>\n",
              "      <td>4102.65</td>\n",
              "    </tr>\n",
              "    <tr>\n",
              "      <th>94459</th>\n",
              "      <td>2026-08-15</td>\n",
              "      <td>2020-08-13</td>\n",
              "      <td>2.07</td>\n",
              "      <td>2.19</td>\n",
              "      <td>4124.83</td>\n",
              "      <td>4100.21</td>\n",
              "      <td>4099.38</td>\n",
              "    </tr>\n",
              "    <tr>\n",
              "      <th>94460</th>\n",
              "      <td>2026-08-15</td>\n",
              "      <td>2020-08-14</td>\n",
              "      <td>2.18</td>\n",
              "      <td>2.30</td>\n",
              "      <td>4005.53</td>\n",
              "      <td>3981.09</td>\n",
              "      <td>4077.80</td>\n",
              "    </tr>\n",
              "    <tr>\n",
              "      <th>94461</th>\n",
              "      <td>2026-08-15</td>\n",
              "      <td>2020-08-17</td>\n",
              "      <td>2.16</td>\n",
              "      <td>2.28</td>\n",
              "      <td>4010.11</td>\n",
              "      <td>3985.66</td>\n",
              "      <td>3985.15</td>\n",
              "    </tr>\n",
              "  </tbody>\n",
              "</table>\n",
              "</div>"
            ],
            "text/plain": [
              "      data_vencimento  data_base  ...  pu_venda_manha  pu_base_manha\n",
              "94452      2026-08-15 2020-04-08  ...         4118.46        4117.64\n",
              "94453      2026-08-15 2020-05-08  ...         4127.57        4126.75\n",
              "94454      2026-08-15 2020-06-08  ...         4115.99        4115.16\n",
              "94455      2026-08-15 2020-07-08  ...         4131.92        4130.16\n",
              "94456      2026-08-15 2020-10-08  ...         4124.46        4123.64\n",
              "94457      2026-08-15 2020-11-08  ...         4114.97        4114.15\n",
              "94458      2026-08-15 2020-12-08  ...         4103.47        4102.65\n",
              "94459      2026-08-15 2020-08-13  ...         4100.21        4099.38\n",
              "94460      2026-08-15 2020-08-14  ...         3981.09        4077.80\n",
              "94461      2026-08-15 2020-08-17  ...         3985.66        3985.15\n",
              "\n",
              "[10 rows x 7 columns]"
            ]
          },
          "metadata": {
            "tags": []
          },
          "execution_count": 46
        }
      ]
    },
    {
      "cell_type": "code",
      "metadata": {
        "colab": {
          "base_uri": "https://localhost:8080/"
        },
        "id": "vjTihsPHQTAs",
        "outputId": "142c2a17-2df2-40cd-e1da-b741e51407e4"
      },
      "source": [
        "df_ipcajuros26.shape"
      ],
      "execution_count": 47,
      "outputs": [
        {
          "output_type": "execute_result",
          "data": {
            "text/plain": [
              "(1363, 7)"
            ]
          },
          "metadata": {
            "tags": []
          },
          "execution_count": 47
        }
      ]
    },
    {
      "cell_type": "code",
      "metadata": {
        "id": "AxXh0n8qQXP-"
      },
      "source": [
        "df_ipcajuros30"
      ],
      "execution_count": null,
      "outputs": []
    },
    {
      "cell_type": "code",
      "metadata": {
        "colab": {
          "base_uri": "https://localhost:8080/"
        },
        "id": "97ZMKwVNdDqR",
        "outputId": "f79119bd-33b9-4aa3-8e35-92a1657666a3"
      },
      "source": [
        "df_prejuros.data_vencimento.unique()"
      ],
      "execution_count": 43,
      "outputs": [
        {
          "output_type": "execute_result",
          "data": {
            "text/plain": [
              "array(['2029-01-01T00:00:00.000000000', '2025-01-01T00:00:00.000000000',\n",
              "       '2027-01-01T00:00:00.000000000', '2023-01-01T00:00:00.000000000',\n",
              "       '2031-01-01T00:00:00.000000000'], dtype='datetime64[ns]')"
            ]
          },
          "metadata": {
            "tags": []
          },
          "execution_count": 43
        }
      ]
    },
    {
      "cell_type": "code",
      "metadata": {
        "id": "mrMvxbmfdKpL"
      },
      "source": [
        "df_prejuros23 = df_prejuros[df_prejuros['data_vencimento'] == '2023-01-01']\n",
        "df_prejuros25 = df_prejuros[df_prejuros['data_vencimento'] == '2025-01-01']\n",
        "df_prejuros27 = df_prejuros[df_prejuros['data_vencimento'] == '2027-01-01']\n",
        "df_prejuros29 = df_prejuros[df_prejuros['data_vencimento'] == '2029-01-01']\n",
        "df_prejuros31 = df_prejuros[df_prejuros['data_vencimento'] == '2031-01-01']\n"
      ],
      "execution_count": 44,
      "outputs": []
    }
  ]
}